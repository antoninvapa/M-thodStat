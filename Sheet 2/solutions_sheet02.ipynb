{
 "cells": [
  {
   "cell_type": "markdown",
   "metadata": {},
   "source": [
    "# Solutions to sheet 2"
   ]
  },
  {
   "cell_type": "code",
   "execution_count": 2,
   "metadata": {},
   "outputs": [],
   "source": [
    "## - - - - - - - - - - - - - - - - - - - - - - - - - - -\n",
    "##      import libraries\n",
    "## - - - - - - - - - - - - - - - - - - - - - - - - - - -\n",
    "\n",
    "from __future__ import division\n",
    "import numpy as np\n",
    "import matplotlib.pyplot as plt\n",
    "import matplotlib as mpl\n",
    "from scipy.interpolate import griddata, UnivariateSpline\n",
    "from matplotlib.pyplot import * # plotting library\n",
    "import math\n",
    "import pylab\n",
    "from matplotlib import ticker\n",
    "from mpmath import mp\n",
    "import mpmath\n",
    "from numpy import random\n",
    "\n",
    "from scipy.optimize import curve_fit  \n",
    "import scipy.optimize as spo"
   ]
  },
  {
   "cell_type": "code",
   "execution_count": 3,
   "metadata": {},
   "outputs": [],
   "source": [
    "## - - - - - - - - - - - - - - - - - - - - - - - - - - -\n",
    "##      plotting properties\n",
    "## - - - - - - - - - - - - - - - - - - - - - - - - - - -\n",
    "\n",
    "plt.rcParams.update({\n",
    "\t'text.usetex': True,\n",
    "\t'font.family':'serif',\n",
    "\t'mathtext.fontset' : 'cm',\n",
    "#\t'mathtext.rm': 'serif',\n",
    "\t'font.weight': 'normal',\n",
    "\t'axes.labelweight': 'normal',\n",
    "\t'axes.linewidth': 1.5,\n",
    "\t'xtick.major.width': 1.5,\n",
    "\t'xtick.major.size': 10.0,\n",
    "\t'xtick.minor.size': 5.0,\n",
    "\t'ytick.major.width': 1.5,\n",
    "\t'ytick.major.size': 10.0,\n",
    "\t'ytick.minor.size': 5.0,\n",
    "\t'font.size': 30})\n",
    "plt.rcParams.update({'font.size': 20})"
   ]
  },
  {
   "cell_type": "markdown",
   "metadata": {},
   "source": [
    "## Solution 2-1:"
   ]
  },
  {
   "cell_type": "code",
   "execution_count": 4,
   "metadata": {},
   "outputs": [],
   "source": [
    "## Answer 2-1\n",
    "\n",
    "ntest=5000\n",
    "data=list(range(ntest))\n",
    "m=85*1.66*1e-27\n",
    "kb=1.38*1e-23\n",
    "T=300\n",
    "\n",
    "mu=0\n",
    "sigma=(kb*T/m)**0.5\n",
    "\n",
    "# Generate the data for N particles\n",
    "\n",
    "for i in range(0,ntest):\n",
    "    data[i]=random.normal(0,sigma)\n",
    "    \n"
   ]
  },
  {
   "cell_type": "code",
   "execution_count": 5,
   "metadata": {},
   "outputs": [
    {
     "data": {
      "image/png": "[encoded data removed]",
      "text/plain": [
       "<Figure size 432x288 with 1 Axes>"
      ]
     },
     "metadata": {
      "needs_background": "light"
     },
     "output_type": "display_data"
    }
   ],
   "source": [
    "# plot the data\n",
    "    \n",
    "plt.hist(data, 40, density=True, facecolor='b')\n",
    "plt.xlabel(r'$v_i$')\n",
    "plt.ylabel(r'$f(v_i)$')\n",
    "plt.title(r'$Histogram\\ of\\ f(v_i)$')\n",
    "plt.tick_params(direction='in')\n",
    "plt.grid(True)\n",
    "plt.show()"
   ]
  },
  {
   "cell_type": "code",
   "execution_count": 6,
   "metadata": {},
   "outputs": [
    {
     "name": "stdout",
     "output_type": "stream",
     "text": [
      "skewness= -0.021414505925709443\n",
      "kurtosis= -0.0819753770403766\n"
     ]
    }
   ],
   "source": [
    "from scipy.stats import skew\n",
    "from scipy.stats import kurtosis\n",
    "\n",
    "print('skewness=',skew(data))\n",
    "print('kurtosis=',kurtosis(data))"
   ]
  },
  {
   "cell_type": "markdown",
   "metadata": {},
   "source": [
    "The average is $0$ and the variance is $\\sqrt{k_B T/m}$."
   ]
  },
  {
   "cell_type": "markdown",
   "metadata": {},
   "source": [
    "## Solution 2-2:"
   ]
  },
  {
   "cell_type": "code",
   "execution_count": 7,
   "metadata": {},
   "outputs": [],
   "source": [
    "## Answer 2-2\n",
    "\n",
    "vdata=list(range(ntest)) # array of the total speed\n",
    "\n",
    "vidata=list(range(3)) # array of velocity on each direction\n",
    "\n",
    "for i in range(0,3):\n",
    "    vidata[i]=list(range(ntest))\n",
    "    for j in range(0,ntest):\n",
    "        vidata[i][j]=np.random.normal(mu,sigma)\n",
    "    \n",
    "for i in range(0,ntest):\n",
    "    vdata[i]=(vidata[0][i]**2+vidata[1][i]**2+vidata[2][i]**2)**0.5\n",
    "\n",
    "## draw the fitting functions\n",
    "\n",
    "xfit=np.arange(0,1000,5)\n",
    "nfit=len(xfit)\n",
    "yfit=list(range(nfit))\n",
    "fac=m/(2*math.pi*kb*T)\n",
    "for i in range(0,nfit):\n",
    "    yfit[i]=fac**1.5*(4*math.pi*(xfit[i]**2))*(math.e**(-m*(xfit[i]**2)/(2*kb*T)))"
   ]
  },
  {
   "cell_type": "code",
   "execution_count": 8,
   "metadata": {},
   "outputs": [
    {
     "data": {
      "image/png": "[encoded data removed]",
      "text/plain": [
       "<Figure size 432x288 with 1 Axes>"
      ]
     },
     "metadata": {
      "needs_background": "light"
     },
     "output_type": "display_data"
    }
   ],
   "source": [
    "# plot the data\n",
    " \n",
    "plt.hist(vdata, 50,density=True, facecolor='b', alpha=0.75)\n",
    "plot(xfit,yfit,'--',lw=3)\n",
    "plt.xlabel(r'$v$')\n",
    "plt.ylabel(r'$f(v)$')\n",
    "plt.title(r'$Histogram\\ of\\ f(v)$')\n",
    "#plt.text(60, .025)\n",
    "#plt.xlim(40, 160)\n",
    "#plt.ylim(0, 0.03)\n",
    "plt.tick_params(direction='in')\n",
    "plt.grid(True)\n",
    "plt.show()"
   ]
  },
  {
   "cell_type": "markdown",
   "metadata": {},
   "source": [
    "Analaytically, one can compute this distribution by computing $f(v,\\theta,\\phi)$ and then integrated over $\\theta$ and $\\phi$"
   ]
  },
  {
   "cell_type": "markdown",
   "metadata": {},
   "source": [
    "## Solution 2-3:\n",
    "The distribution follows $f(E_k)=2\\sqrt{E_k/\\pi}(1/k_B T)^{3/2}exp(-E_k/k_B T)$"
   ]
  },
  {
   "cell_type": "code",
   "execution_count": 9,
   "metadata": {},
   "outputs": [
    {
     "data": {
      "image/png": "[encoded data removed]",
      "text/plain": [
       "<Figure size 432x288 with 1 Axes>"
      ]
     },
     "metadata": {
      "needs_background": "light"
     },
     "output_type": "display_data"
    }
   ],
   "source": [
    "## Answer 2-3\n",
    "\n",
    "edata=list(range(ntest)) # array of the kinetic energy\n",
    "\n",
    "for i in range(0,ntest):\n",
    "    edata[i]=0.5*m*(vdata[i]**2)\n",
    "    \n",
    "## draw the fitting functions\n",
    "\n",
    "xfit=np.arange(0,5e-20,1e-21)\n",
    "nfit=len(xfit)\n",
    "yfit=list(range(nfit))\n",
    "fac=m/(2*math.pi*kb*T)\n",
    "for i in range(0,nfit):\n",
    "    yfit[i]=2*(1.0/(kb*T))**1.5*(xfit[i]/math.pi)**0.5*(math.e**(-xfit[i]/(kb*T)))\n",
    "\n",
    "    \n",
    "plt.hist(edata, 50, density=True, facecolor='b', alpha=0.75)\n",
    "plot(xfit,yfit,'--',lw=3)\n",
    "plt.xlabel(r'$E_k$')\n",
    "plt.ylabel(r'$f(E_k)$')\n",
    "plt.title(r'$Histogram\\ of\\ f(E_k)$')\n",
    "#plt.text(60, .025)\n",
    "#plt.xlim(40, 160)\n",
    "#plt.ylim(0, 0.03)\n",
    "plt.tick_params(direction='in')\n",
    "plt.grid(True)\n",
    "plt.show() "
   ]
  },
  {
   "cell_type": "code",
   "execution_count": 10,
   "metadata": {},
   "outputs": [
    {
     "name": "stdout",
     "output_type": "stream",
     "text": [
      "skewness= 1.610624472386031\n",
      "kurtosis= 3.5838621432746294\n"
     ]
    }
   ],
   "source": [
    "print('skewness=',skew(edata))\n",
    "print('kurtosis=',kurtosis(edata))"
   ]
  },
  {
   "cell_type": "markdown",
   "metadata": {},
   "source": [
    "### * One additional plot to have a look (just for fun):\n",
    "\n",
    "We can plot the distribution of $E_k$ at various temperature. This is not asked in the exercise but it recovers what you learn in statstical physics class."
   ]
  },
  {
   "cell_type": "code",
   "execution_count": 11,
   "metadata": {},
   "outputs": [],
   "source": [
    "## Answer 2-3*\n",
    "m=85*1.66*1e-27\n",
    "kb=1.38*1e-23\n",
    "mu=0\n",
    "    \n",
    "def ekdistribution(Tinput,Ninput):\n",
    "    sigma=(kb*Tinput/m)**0.5\n",
    "    ekoutput=list(range(Ninput))\n",
    "    for i in range(0,Ninput):\n",
    "        ekoutput[i]=0\n",
    "        for j in range(0,3):\n",
    "            ekoutput[i]+=np.random.normal(mu,sigma)**2\n",
    "        ekoutput[i]*=0.5*m\n",
    "    return ekoutput"
   ]
  },
  {
   "cell_type": "code",
   "execution_count": 12,
   "metadata": {},
   "outputs": [],
   "source": [
    "temperature=[50,100,300]\n",
    "ekdata=list(range(3))\n",
    "\n",
    "for i in range(0,3):\n",
    "    ekdata[i]=ekdistribution(temperature[i],ntest)\n"
   ]
  },
  {
   "cell_type": "code",
   "execution_count": 13,
   "metadata": {},
   "outputs": [
    {
     "data": {
      "image/png": "[encoded data removed]",
      "text/plain": [
       "<Figure size 432x288 with 1 Axes>"
      ]
     },
     "metadata": {
      "needs_background": "light"
     },
     "output_type": "display_data"
    }
   ],
   "source": [
    "\n",
    "plt.hist(ekdata[0], 50, density=True, facecolor='b', alpha=0.75)\n",
    "plt.hist(ekdata[1], 50, density=True, facecolor='g', alpha=0.75)\n",
    "plt.hist(ekdata[2], 50, density=True, facecolor='r', alpha=0.75)\n",
    "plt.xlabel(r'$E_k$')\n",
    "plt.ylabel(r'$f(E_k)$')\n",
    "plt.title(r'$Histogram\\ of\\ f(E_k)$')\n",
    "plt.tick_params(direction='in')\n",
    "plt.grid(True)\n",
    "plt.show()"
   ]
  },
  {
   "cell_type": "markdown",
   "metadata": {},
   "source": [
    "## Solution 2-4:"
   ]
  },
  {
   "cell_type": "code",
   "execution_count": 14,
   "metadata": {},
   "outputs": [
    {
     "name": "stdout",
     "output_type": "stream",
     "text": [
      "Expectation value= 6.187940416629003e-21\n",
      "Variance= 29537.54583150671\n"
     ]
    }
   ],
   "source": [
    "T=300\n",
    "ekdata=ekdistribution(T,900)\n",
    "\n",
    "print('Expectation value=',sum(ekdata)/len(ekdata))\n",
    "print('Variance=',np.var(data))"
   ]
  },
  {
   "cell_type": "code",
   "execution_count": 15,
   "metadata": {},
   "outputs": [
    {
     "name": "stdout",
     "output_type": "stream",
     "text": [
      "Expectation value in unit of k_B*T 1.4946715982195662\n",
      "Variance in unit of (k_B*T)^2= 1.4944740001741301\n"
     ]
    }
   ],
   "source": [
    "print('Expectation value in unit of k_B*T',sum(ekdata)/len(ekdata)/(kb*T))\n",
    "print('Variance in unit of (k_B*T)^2=',np.var(ekdata)/((kb*T)**2))"
   ]
  },
  {
   "cell_type": "code",
   "execution_count": null,
   "metadata": {},
   "outputs": [],
   "source": []
  },
  {
   "cell_type": "markdown",
   "metadata": {},
   "source": [
    "## Solution 2-5"
   ]
  },
  {
   "cell_type": "code",
   "execution_count": 16,
   "metadata": {},
   "outputs": [],
   "source": [
    "Nexp=400\n",
    "ekavg=list(range(Nexp))\n",
    "\n",
    "for i in range(0,Nexp):\n",
    "    ekdata=ekdistribution(T,900)\n",
    "    ekavg[i]=sum(ekdata)/len(ekdata)\n",
    "    \n"
   ]
  },
  {
   "cell_type": "code",
   "execution_count": 17,
   "metadata": {},
   "outputs": [
    {
     "data": {
      "image/png": "[encoded data removed]",
      "text/plain": [
       "<Figure size 432x288 with 1 Axes>"
      ]
     },
     "metadata": {
      "needs_background": "light"
     },
     "output_type": "display_data"
    }
   ],
   "source": [
    "bin_entries, bin_edges, _ =plt.hist(ekavg, 80, density=True, facecolor='r', alpha=0.75)\n",
    "bin_centers = np.array([0.5 * (bin_edges[i] + bin_edges[i+1]) for i in range(len(bin_edges)-1)])\n"
   ]
  },
  {
   "cell_type": "markdown",
   "metadata": {},
   "source": [
    "## Solution 2-6-1:\n",
    "Perform the fit to the Gaussian"
   ]
  },
  {
   "cell_type": "code",
   "execution_count": 18,
   "metadata": {},
   "outputs": [],
   "source": [
    "\n",
    "def gauss(x, mu, sigma):\n",
    "    ## Define the Gaussian shape for the fit later\n",
    "    pref = 1 / sigma / np.sqrt(2 * np.pi)\n",
    "    return pref * np.exp(- pow(x - mu, 2) / 2 / sigma / sigma)"
   ]
  },
  {
   "cell_type": "code",
   "execution_count": 19,
   "metadata": {},
   "outputs": [
    {
     "name": "stdout",
     "output_type": "stream",
     "text": [
      "[6.23021933e-21 1.77356154e-22]\n",
      "[[1.65822975e-04 5.97491298e-07]\n",
      " [5.97491298e-07 1.12673669e-04]]\n"
     ]
    }
   ],
   "source": [
    "C=1e21 ## Here, we use the C factor to make bin_centers and bin_entries around 1, so that the python fit can be perform properly\n",
    "\n",
    "for i in range(0,len(bin_centers)):\n",
    "    bin_entries[i]/=C\n",
    "    bin_centers[i]*=C\n",
    "\n",
    "popt, pcov = spo.curve_fit(gauss, bin_centers, bin_entries)\n",
    "binfit=gauss(bin_centers, *popt)\n",
    "popt[0]/=C\n",
    "popt[1]/=C\n",
    "\n",
    "print(popt)\n",
    "print(pcov)"
   ]
  },
  {
   "cell_type": "code",
   "execution_count": 20,
   "metadata": {},
   "outputs": [
    {
     "data": {
      "image/png": "[encoded data removed]",
      "text/plain": [
       "<Figure size 432x288 with 1 Axes>"
      ]
     },
     "metadata": {
      "needs_background": "light"
     },
     "output_type": "display_data"
    }
   ],
   "source": [
    "for i in range(0,len(bin_centers)):\n",
    "    binfit[i]*=C\n",
    "    bin_centers[i]/=C\n",
    " \n",
    "    \n",
    "plt.hist(ekavg, 100, density=True, facecolor='g', alpha=0.75)\n",
    "plt.plot(bin_centers, binfit, lw=4,\n",
    "         label='fit: mu=%.2f, sigma=%.2f' % tuple(popt))\n",
    "\n",
    "plt.xlabel(r'$E_k$')\n",
    "plt.ylabel(r'$f(E_k)$')\n",
    "plt.title(r'$Histogram\\ of\\ f(E_k)$')\n",
    "plt.tick_params(direction='in')\n",
    "plt.grid(True)\n",
    "plt.show() "
   ]
  },
  {
   "cell_type": "markdown",
   "metadata": {},
   "source": [
    "## Solution 2-6-2:\n",
    "Compute the ratio $\\sigma_{E (E_k) }/\\sigma_{E_k}$ (here we compute the inverse below)"
   ]
  },
  {
   "cell_type": "code",
   "execution_count": 21,
   "metadata": {},
   "outputs": [
    {
     "name": "stdout",
     "output_type": "stream",
     "text": [
      "The ratio of the two standard variance is 28.589048970452524\n"
     ]
    }
   ],
   "source": [
    "print(\"The ratio of the two standard variance is\",1.5**0.5*(kb*T)/popt[1])"
   ]
  },
  {
   "cell_type": "code",
   "execution_count": null,
   "metadata": {},
   "outputs": [],
   "source": []
  }
 ],
 "metadata": {
  "kernelspec": {
   "display_name": "Python 3 (ipykernel)",
   "language": "python",
   "name": "python3"
  },
  "language_info": {
   "codemirror_mode": {
    "name": "ipython",
    "version": 3
   },
   "file_extension": ".py",
   "mimetype": "text/x-python",
   "name": "python",
   "nbconvert_exporter": "python",
   "pygments_lexer": "ipython3",
   "version": "3.9.7"
  }
 },
 "nbformat": 4,
 "nbformat_minor": 2
}
