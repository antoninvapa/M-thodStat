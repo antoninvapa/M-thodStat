{
 "cells": [
  {
   "cell_type": "code",
   "execution_count": 1,
   "metadata": {},
   "outputs": [],
   "source": [
    "## - - - - - - - - - - - - - - - - - - - - - - - - - - -\n",
    "##      import libraries\n",
    "## - - - - - - - - - - - - - - - - - - - - - - - - - - -\n",
    "\n",
    "from __future__ import division\n",
    "import numpy as np\n",
    "import matplotlib.pyplot as plt\n",
    "import matplotlib as mpl\n",
    "from scipy.interpolate import griddata, UnivariateSpline\n",
    "from matplotlib.pyplot import * # plotting library\n",
    "import math\n",
    "import pylab\n",
    "from matplotlib import ticker\n",
    "from mpmath import mp\n",
    "import mpmath\n",
    "from numpy import random\n",
    "\n"
   ]
  },
  {
   "cell_type": "code",
   "execution_count": 2,
   "metadata": {},
   "outputs": [],
   "source": [
    "## - - - - - - - - - - - - - - - - - - - - - - - - - - -\n",
    "##      plotting properties\n",
    "## - - - - - - - - - - - - - - - - - - - - - - - - - - -\n",
    "\n",
    "plt.rcParams.update({\n",
    "\t'text.usetex': True,\n",
    "\t'font.family':'serif',\n",
    "\t'mathtext.fontset' : 'cm',\n",
    "\t'mathtext.rm': 'serif',\n",
    "\t'font.weight': 'normal',\n",
    "\t'axes.labelweight': 'normal',\n",
    "\t'axes.linewidth': 1.5,\n",
    "\t'xtick.major.width': 1.5,\n",
    "\t'xtick.major.size': 10.0,\n",
    "\t'xtick.minor.size': 5.0,\n",
    "\t'ytick.major.width': 1.5,\n",
    "\t'ytick.major.size': 10.0,\n",
    "\t'ytick.minor.size': 5.0,\n",
    "\t'font.size': 30})\n",
    "plt.rcParams.update({'font.size': 20})\n",
    "\n",
    "\n"
   ]
  },
  {
   "cell_type": "code",
   "execution_count": 3,
   "metadata": {},
   "outputs": [
    {
     "data": {
      "image/png": "[encoded data removed]",
      "text/plain": [
       "<Figure size 432x288 with 1 Axes>"
      ]
     },
     "metadata": {
      "needs_background": "light"
     },
     "output_type": "display_data"
    }
   ],
   "source": [
    "## Answer 2-1\n",
    "\n",
    "ntest=20000\n",
    "vidata=np.zeros(ntest)\n",
    "m=85*1.66*1e-27\n",
    "kb=1.38*1e-23\n",
    "T=300\n",
    "\n",
    "mu=0\n",
    "sigma=(kb*T/m)**0.5\n",
    "\n",
    "# Generate the data for N particles\n",
    "\n",
    "for i in range(0,ntest):\n",
    "    vidata[i]=random.normal(0,sigma)\n",
    "    \n",
    "#print \"vidata=\",vidata    \n",
    "# plot the data\n",
    "    \n",
    "plt.hist(vidata, 40, density=True, facecolor='b')\n",
    "plt.xlabel(r'$v_i$')\n",
    "plt.ylabel(r'$f(v_i)$')\n",
    "plt.title(r'$Histogram\\ of\\ f(v_i)$')\n",
    "plt.tick_params(direction='in')\n",
    "plt.grid(True)\n",
    "plt.show()"
   ]
  },
  {
   "cell_type": "code",
   "execution_count": 4,
   "metadata": {},
   "outputs": [
    {
     "name": "stdout",
     "output_type": "stream",
     "text": [
      "skewness= -0.012121327038\n",
      "kurtosis= -0.030104532936\n"
     ]
    }
   ],
   "source": [
    "from scipy.stats import skew\n",
    "from scipy.stats import kurtosis\n",
    "\n",
    "print 'skewness=',skew(vidata)\n",
    "print 'kurtosis=',kurtosis(vidata)"
   ]
  },
  {
   "cell_type": "markdown",
   "metadata": {},
   "source": [
    "The average is $0$ and the variance is $k_B T/m$. Both the skewness and the kurtosis are $0$ because the distribution is symmetric to its mean and it's a normal distribution."
   ]
  },
  {
   "cell_type": "code",
   "execution_count": 5,
   "metadata": {},
   "outputs": [],
   "source": [
    "## Answer 2-2\n",
    "\n",
    "vdata=list(range(ntest)) # array of the total speed\n",
    "\n",
    "vidata=list(range(3)) # array of velocity on each direction\n",
    "\n",
    "for i in range(0,3):\n",
    "    vidata[i]=list(range(ntest))\n",
    "    for j in range(0,ntest):\n",
    "        vidata[i][j]=np.random.normal(mu,sigma)\n",
    "\n",
    "    \n",
    "for i in range(0,ntest):\n",
    "    vdata[i]=(vidata[0][i]**2+vidata[1][i]**2+vidata[2][i]**2)**0.5\n",
    "\n",
    "## draw the fitting functions\n",
    "\n",
    "xfit=np.arange(0,1000,5)\n",
    "nfit=len(xfit)\n",
    "yfit=list(range(nfit))\n",
    "fac=m/(2*math.pi*kb*T)\n",
    "for i in range(0,nfit):\n",
    "    yfit[i]=fac**1.5*(4*math.pi*(xfit[i]**2))*(math.e**(-m*(xfit[i]**2)/(2*kb*T)))"
   ]
  },
  {
   "cell_type": "code",
   "execution_count": 6,
   "metadata": {},
   "outputs": [
    {
     "data": {
      "image/png": "[encoded data removed]",
      "text/plain": [
       "<Figure size 432x288 with 1 Axes>"
      ]
     },
     "metadata": {
      "needs_background": "light"
     },
     "output_type": "display_data"
    }
   ],
   "source": [
    "# plot the data\n",
    " \n",
    "plt.hist(vdata, 50, density=True, facecolor='b', alpha=0.75)\n",
    "plot(xfit,yfit,'--',lw=3)\n",
    "plt.xlabel(r'$v$')\n",
    "plt.ylabel(r'$f(v)$')\n",
    "plt.title(r'$Histogram\\ of\\ f(v)$')\n",
    "#plt.text(60, .025)\n",
    "#plt.xlim(40, 160)\n",
    "#plt.ylim(0, 0.03)\n",
    "plt.tick_params(direction='in')\n",
    "plt.grid(True)\n",
    "plt.show()"
   ]
  },
  {
   "cell_type": "markdown",
   "metadata": {},
   "source": [
    "Analaytically, one can compute this distribution by computing $f(v,\\theta,\\phi)$ and then integrated over $\\theta$ and $\\phi$"
   ]
  },
  {
   "cell_type": "code",
   "execution_count": 7,
   "metadata": {},
   "outputs": [],
   "source": [
    "## Answer 2-5\n",
    "\n",
    "def ekdistribution(Tinput,Ninput):\n",
    "    m=85*1.66*1e-27\n",
    "    kb=1.38*1e-23\n",
    "    mu=0\n",
    "    sigma=(kb*Tinput/m)**0.5\n",
    "    ekoutput=list(range(Ninput))\n",
    "    for i in range(0,Ninput):\n",
    "        ekoutput[i]=0\n",
    "        for j in range(0,3):\n",
    "            ekoutput[i]+=np.random.normal(mu,sigma)**2\n",
    "        ekoutput[i]*=0.5*m\n",
    "    return ekoutput\n",
    "\n",
    "    "
   ]
  },
  {
   "cell_type": "code",
   "execution_count": 8,
   "metadata": {},
   "outputs": [
    {
     "name": "stdout",
     "output_type": "stream",
     "text": [
      "alpha= 1.5025328826968785 +/- 0.0029373461866213824\n"
     ]
    }
   ],
   "source": [
    "temperature=[10,50,100,300,600]\n",
    "ekdata=list(range(5))\n",
    "ekaverage=list(range(5))\n",
    "\n",
    "for i in range(0,5):\n",
    "    ekdata[i]=ekdistribution(temperature[i],20000)\n",
    "    ekaverage[i]=sum(ekdata[i])/len(ekdata[i])\n",
    "    \n",
    "\n",
    "## fitting the factor \\alpha\n",
    "tfit=list(range(5))\n",
    "for i in range(0,5):\n",
    "    tfit[i]=temperature[i]*kb\n",
    "\n",
    "alpha,cov=np.polyfit(tfit, ekaverage,1,cov=True)\n",
    "\n",
    "print 'alpha=',alpha[0],'+/-',cov[0][0]**0.5"
   ]
  },
  {
   "cell_type": "markdown",
   "metadata": {},
   "source": [
    "We find the value $\\alpha$ around $3/2$. This fits with the equipartition theory that the kinetic energy on each direction contribution $1/2 k_B T$."
   ]
  },
  {
   "cell_type": "code",
   "execution_count": 9,
   "metadata": {},
   "outputs": [
    {
     "name": "stdout",
     "output_type": "stream",
     "text": [
      "alpha= 1.4546987661394415 +/- 0.007646132603786056\n"
     ]
    }
   ],
   "source": [
    "##  Answer 2-6\n",
    "\n",
    "temperature=[10,50,100,300,600]\n",
    "ekdata=list(range(5))\n",
    "ekaverage=list(range(5))\n",
    "\n",
    "for i in range(0,5):\n",
    "    ekdata[i]=ekdistribution(temperature[i],500)\n",
    "    ekaverage[i]=sum(ekdata[i])/len(ekdata[i])\n",
    "\n",
    "## fitting the factor \\alpha\n",
    "tfit=list(range(5))\n",
    "for i in range(0,5):\n",
    "    tfit[i]=temperature[i]*kb\n",
    "\n",
    "alpha,cov=np.polyfit(tfit, ekaverage,1,cov=True)\n",
    "\n",
    "print 'alpha=',alpha[0],'+/-',cov[0][0]**0.5\n"
   ]
  },
  {
   "cell_type": "markdown",
   "metadata": {},
   "source": [
    "We find a value that is more far from $1.5$ and a larger errorbar. This is due to the fact that we use a much smaller test data number for our numerical experiment. The larger the number of test we did, the better we recover the properties of the true probability distribution."
   ]
  },
  {
   "cell_type": "code",
   "execution_count": 10,
   "metadata": {},
   "outputs": [],
   "source": [
    "##  Answer 2-7\n",
    "\n",
    "ekdata=ekdistribution(300,20000)"
   ]
  },
  {
   "cell_type": "code",
   "execution_count": 11,
   "metadata": {},
   "outputs": [
    {
     "name": "stdout",
     "output_type": "stream",
     "text": [
      "variance= 1.5105830390668382\n"
     ]
    }
   ],
   "source": [
    "print 'variance=',np.var(ekdata)/((kb*T)**2)"
   ]
  },
  {
   "cell_type": "markdown",
   "metadata": {},
   "source": [
    "This scales as $\\sigma^2\\simeq 1.5 (k_B T)^2$"
   ]
  },
  {
   "cell_type": "code",
   "execution_count": 12,
   "metadata": {},
   "outputs": [
    {
     "name": "stdout",
     "output_type": "stream",
     "text": [
      "skewness= 1.61424297877\n",
      "kurtosis= 3.91370072284\n"
     ]
    }
   ],
   "source": [
    "from scipy.stats import skew\n",
    "from scipy.stats import kurtosis\n",
    "\n",
    "print 'skewness=',skew(ekdata)\n",
    "print 'kurtosis=',kurtosis(ekdata)"
   ]
  },
  {
   "cell_type": "markdown",
   "metadata": {},
   "source": [
    "The distribution $f(E_k)$ is asymmetric respected to its mean. The probablitity to find events far from the mean is larger than a normal distribution."
   ]
  },
  {
   "cell_type": "code",
   "execution_count": null,
   "metadata": {},
   "outputs": [],
   "source": []
  }
 ],
 "metadata": {
  "kernelspec": {
   "display_name": "Python 2",
   "language": "python",
   "name": "python2"
  },
  "language_info": {
   "codemirror_mode": {
    "name": "ipython",
    "version": 2
   },
   "file_extension": ".py",
   "mimetype": "text/x-python",
   "name": "python",
   "nbconvert_exporter": "python",
   "pygments_lexer": "ipython2",
   "version": "2.7.16"
  }
 },
 "nbformat": 4,
 "nbformat_minor": 2
}
