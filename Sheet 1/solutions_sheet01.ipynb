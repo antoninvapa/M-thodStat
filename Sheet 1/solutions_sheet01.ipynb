{
 "cells": [
  {
   "cell_type": "markdown",
   "id": "a98b2207-663e-4ea9-bdaf-599f0105a136",
   "metadata": {},
   "source": [
    "# Solutions to sheet 1"
   ]
  },
  {
   "cell_type": "markdown",
   "id": "54a916db",
   "metadata": {},
   "source": [
    "Import the necessary libraries: `numpy`, `matplotlib` and `scipy`. We can use the `as` keyword to define shortcuts to access the libraries (example: `import numpy as np` means we can access numpy functions with the `np.` syntax)."
   ]
  },
  {
   "cell_type": "code",
   "execution_count": 1,
   "id": "29f02216",
   "metadata": {},
   "outputs": [],
   "source": [
    "import numpy as np\n",
    "import matplotlib as mpl\n",
    "import matplotlib.pyplot as plt\n",
    "import scipy.optimize as spo"
   ]
  },
  {
   "cell_type": "markdown",
   "id": "8a792888",
   "metadata": {},
   "source": [
    "Set some plotting options – don't worry, this is just to make the plots look prettier."
   ]
  },
  {
   "cell_type": "code",
   "execution_count": 2,
   "id": "687795e8",
   "metadata": {},
   "outputs": [],
   "source": [
    "## - - - - - - - - - - - - - - - - - - - - - - - - - - -\n",
    "##      plotting properties\n",
    "## - - - - - - - - - - - - - - - - - - - - - - - - - - -\n",
    "\n",
    "mpl.rcParams.update({\n",
    "    \"axes.autolimit_mode\":\"round_numbers\",\n",
    "    \"axes.axisbelow\":\"False\",\n",
    "    \"axes.edgecolor\":\"000000\",\n",
    "    \"axes.facecolor\":\"FFFFFF\",\n",
    "    \"axes.formatter.limits\":\"-2, 4\",\n",
    "    \"axes.formatter.use_mathtext\":\"True\",\n",
    "    \"axes.grid\":\"False\",\n",
    "    \"axes.labelcolor\":\"000000\",\n",
    "    \"axes.labelsize\":\"12\",\n",
    "    \"axes.linewidth\":\"1\",\n",
    "    \"axes.titlesize\":\"12\",\n",
    "    \"axes.xmargin\":\"0.\",\n",
    "    \"axes.ymargin\":\"0.\",\n",
    "    \"errorbar.capsize\":\"1\",\n",
    "    \"figure.autolayout\":\"True\",\n",
    "    \"figure.dpi\":\"96\",\n",
    "    \"figure.edgecolor\":\"0.50\",\n",
    "    \"figure.facecolor\":\"FFFFFF\",\n",
    "    \"figure.figsize\":\"6, 4.5\",\n",
    "    \"font.family\":\"monospace\",\n",
    "    \"font.size\":\"12\",\n",
    "    \"legend.fancybox\":\"True\",\n",
    "    \"legend.framealpha\":\"0.25\",\n",
    "    \"legend.frameon\":\"True\",\n",
    "    \"lines.markersize\":\"6\",\n",
    "    \"savefig.dpi\":\"150\",\n",
    "    \"savefig.facecolor\":\"FFFFFF00\",\n",
    "    \"xtick.bottom\":\"True\",\n",
    "    \"xtick.color\":\"000000\",\n",
    "    \"xtick.direction\":\"in\",\n",
    "    \"xtick.major.size\":\"10\",\n",
    "    \"xtick.minor.size\":\"5\",\n",
    "    \"xtick.top\":\"True\",\n",
    "    \"ytick.color\":\"000000\",\n",
    "    \"ytick.direction\":\"in\",\n",
    "    \"ytick.left\":\"True\",\n",
    "    \"ytick.major.size\":\"10\",\n",
    "    \"ytick.minor.size\":\"5\",\n",
    "    \"ytick.right\":\"True\",\n",
    "})"
   ]
  },
  {
   "cell_type": "markdown",
   "id": "363e01ed",
   "metadata": {},
   "source": [
    "## Drawing random numbers from a PDF"
   ]
  },
  {
   "cell_type": "markdown",
   "id": "816096a0",
   "metadata": {},
   "source": [
    "First step: Initialise a random number generator."
   ]
  },
  {
   "cell_type": "code",
   "execution_count": 3,
   "id": "84515ec5",
   "metadata": {},
   "outputs": [],
   "source": [
    "gen = np.random.default_rng()"
   ]
  },
  {
   "cell_type": "markdown",
   "id": "5dd37706",
   "metadata": {},
   "source": [
    "Drawing numbers from a uniform distribution in the interval $[0, 1)$:"
   ]
  },
  {
   "cell_type": "code",
   "execution_count": 4,
   "id": "7755ef8f",
   "metadata": {},
   "outputs": [],
   "source": [
    "values = gen.uniform(0, 1, 100)"
   ]
  },
  {
   "cell_type": "code",
   "execution_count": 5,
   "id": "e3b8333a",
   "metadata": {},
   "outputs": [
    {
     "data": {
      "text/plain": [
       "array([0.94532502, 0.79008841, 0.85801543, 0.01455905, 0.13550619,\n",
       "       0.27834652, 0.42475311, 0.02098333, 0.08668928, 0.51427941])"
      ]
     },
     "execution_count": 5,
     "metadata": {},
     "output_type": "execute_result"
    }
   ],
   "source": [
    "values[:10]"
   ]
  },
  {
   "cell_type": "markdown",
   "id": "71df9be7",
   "metadata": {},
   "source": [
    "Next step: plotting the drawn values."
   ]
  },
  {
   "cell_type": "code",
   "execution_count": 6,
   "id": "b948b34a",
   "metadata": {},
   "outputs": [
    {
     "data": {
      "image/png": "[encoded data removed]",
      "text/plain": [
       "<Figure size 576x432 with 1 Axes>"
      ]
     },
     "metadata": {},
     "output_type": "display_data"
    }
   ],
   "source": [
    "plt.hist(values, bins=20, range=(0, 1))\n",
    "\n",
    "plt.show()"
   ]
  },
  {
   "cell_type": "markdown",
   "id": "2d628fda",
   "metadata": {},
   "source": [
    "Let's do the same with a Gaussian distribution, centred around 15."
   ]
  },
  {
   "cell_type": "code",
   "execution_count": 7,
   "id": "e7a5828e",
   "metadata": {},
   "outputs": [],
   "source": [
    "values = gen.normal(15, 1, 1000)"
   ]
  },
  {
   "cell_type": "code",
   "execution_count": 8,
   "id": "2582d66e",
   "metadata": {},
   "outputs": [
    {
     "data": {
      "text/plain": [
       "array([15.62287576, 14.53010327, 14.04535014, 15.97778564, 15.7209485 ,\n",
       "       17.00601297, 14.81362672, 15.23966728, 17.68526263, 15.03695111])"
      ]
     },
     "execution_count": 8,
     "metadata": {},
     "output_type": "execute_result"
    }
   ],
   "source": [
    "values[:10]"
   ]
  },
  {
   "cell_type": "markdown",
   "id": "923ce838",
   "metadata": {},
   "source": [
    "Now let's plot them again."
   ]
  },
  {
   "cell_type": "code",
   "execution_count": 9,
   "id": "fe8eae93",
   "metadata": {},
   "outputs": [
    {
     "data": {
      "image/png": "[encoded data removed]",
      "text/plain": [
       "<Figure size 576x432 with 1 Axes>"
      ]
     },
     "metadata": {},
     "output_type": "display_data"
    }
   ],
   "source": [
    "plt.hist(values, bins=50, range=(10, 20))\n",
    "\n",
    "plt.show()"
   ]
  },
  {
   "cell_type": "markdown",
   "id": "87f00006",
   "metadata": {},
   "source": [
    "## Defining and plotting analytical functions"
   ]
  },
  {
   "cell_type": "markdown",
   "id": "979e4577",
   "metadata": {},
   "source": [
    "Now let's plot the analytical function as well."
   ]
  },
  {
   "cell_type": "code",
   "execution_count": 10,
   "id": "ae2550b4",
   "metadata": {},
   "outputs": [],
   "source": [
    "def gauss(x, mu, sigma):\n",
    "    pref = 1 / sigma / np.sqrt(2 * np.pi)\n",
    "    return pref * np.exp(- pow(x - mu, 2) / 2 / sigma / sigma)"
   ]
  },
  {
   "cell_type": "code",
   "execution_count": 11,
   "id": "857eeffe",
   "metadata": {},
   "outputs": [],
   "source": [
    "xfunc = np.linspace(10, 20, 101)"
   ]
  },
  {
   "cell_type": "code",
   "execution_count": 12,
   "id": "4391a1f2",
   "metadata": {},
   "outputs": [],
   "source": [
    "yfunc = gauss(xfunc, 15, 1)"
   ]
  },
  {
   "cell_type": "markdown",
   "id": "e5d3810b",
   "metadata": {},
   "source": [
    "Now let's plot the function and the drawn values into the same figure:"
   ]
  },
  {
   "cell_type": "code",
   "execution_count": 13,
   "id": "81c5b6f6",
   "metadata": {},
   "outputs": [
    {
     "data": {
      "image/png": "[encoded data removed]",
      "text/plain": [
       "<Figure size 576x432 with 1 Axes>"
      ]
     },
     "metadata": {},
     "output_type": "display_data"
    }
   ],
   "source": [
    "plt.hist(values, bins=50, range=(10, 20), density=True, label=\"drawn values\")\n",
    "plt.plot(xfunc, yfunc, label=\"analytical function\", lw=4)\n",
    "plt.legend()\n",
    "\n",
    "plt.show()"
   ]
  },
  {
   "cell_type": "markdown",
   "id": "74f75fc9",
   "metadata": {},
   "source": [
    "## Fitting functions to data"
   ]
  },
  {
   "cell_type": "markdown",
   "id": "c5857d32",
   "metadata": {},
   "source": [
    "Let's use the previously generated data and fit a Gaussian function to it, to get estimators for mu and sigma. First we need to get the bin edges and contents."
   ]
  },
  {
   "cell_type": "code",
   "execution_count": 14,
   "id": "8afaeacc",
   "metadata": {},
   "outputs": [
    {
     "data": {
      "image/png": "[encoded data removed]",
      "text/plain": [
       "<Figure size 576x432 with 1 Axes>"
      ]
     },
     "metadata": {},
     "output_type": "display_data"
    }
   ],
   "source": [
    "bin_entries, bin_edges, _ = plt.hist(values, bins=50, range=(10, 20), density=True)\n",
    "\n",
    "plt.show()"
   ]
  },
  {
   "cell_type": "code",
   "execution_count": 15,
   "id": "3884c212",
   "metadata": {},
   "outputs": [
    {
     "data": {
      "text/plain": [
       "array([0.   , 0.   , 0.   , 0.   , 0.   , 0.   , 0.   , 0.   , 0.005,\n",
       "       0.01 , 0.015, 0.   , 0.025, 0.045, 0.035, 0.075, 0.13 , 0.105,\n",
       "       0.22 , 0.155, 0.3  , 0.26 , 0.345, 0.44 , 0.41 , 0.41 , 0.39 ,\n",
       "       0.36 , 0.3  , 0.28 , 0.19 , 0.14 , 0.095, 0.05 , 0.06 , 0.06 ,\n",
       "       0.045, 0.015, 0.01 , 0.005, 0.005, 0.005, 0.   , 0.005, 0.   ,\n",
       "       0.   , 0.   , 0.   , 0.   , 0.   ])"
      ]
     },
     "execution_count": 15,
     "metadata": {},
     "output_type": "execute_result"
    }
   ],
   "source": [
    "bin_entries"
   ]
  },
  {
   "cell_type": "code",
   "execution_count": 16,
   "id": "01c89f16",
   "metadata": {},
   "outputs": [
    {
     "data": {
      "text/plain": [
       "array([10. , 10.2, 10.4, 10.6, 10.8, 11. , 11.2, 11.4, 11.6, 11.8, 12. ,\n",
       "       12.2, 12.4, 12.6, 12.8, 13. , 13.2, 13.4, 13.6, 13.8, 14. , 14.2,\n",
       "       14.4, 14.6, 14.8, 15. , 15.2, 15.4, 15.6, 15.8, 16. , 16.2, 16.4,\n",
       "       16.6, 16.8, 17. , 17.2, 17.4, 17.6, 17.8, 18. , 18.2, 18.4, 18.6,\n",
       "       18.8, 19. , 19.2, 19.4, 19.6, 19.8, 20. ])"
      ]
     },
     "execution_count": 16,
     "metadata": {},
     "output_type": "execute_result"
    }
   ],
   "source": [
    "bin_edges"
   ]
  },
  {
   "cell_type": "markdown",
   "id": "653d9c42",
   "metadata": {},
   "source": [
    "Calculate the bin centres."
   ]
  },
  {
   "cell_type": "code",
   "execution_count": 17,
   "id": "1a394bdb",
   "metadata": {},
   "outputs": [],
   "source": [
    "bin_centres = np.array([0.5 * (bin_edges[i] + bin_edges[i+1]) for i in range(len(bin_edges)-1)])"
   ]
  },
  {
   "cell_type": "code",
   "execution_count": 18,
   "id": "e08fd4b0",
   "metadata": {},
   "outputs": [
    {
     "data": {
      "text/plain": [
       "array([10.1, 10.3, 10.5, 10.7, 10.9, 11.1, 11.3, 11.5, 11.7, 11.9, 12.1,\n",
       "       12.3, 12.5, 12.7, 12.9, 13.1, 13.3, 13.5, 13.7, 13.9, 14.1, 14.3,\n",
       "       14.5, 14.7, 14.9, 15.1, 15.3, 15.5, 15.7, 15.9, 16.1, 16.3, 16.5,\n",
       "       16.7, 16.9, 17.1, 17.3, 17.5, 17.7, 17.9, 18.1, 18.3, 18.5, 18.7,\n",
       "       18.9, 19.1, 19.3, 19.5, 19.7, 19.9])"
      ]
     },
     "execution_count": 18,
     "metadata": {},
     "output_type": "execute_result"
    }
   ],
   "source": [
    "bin_centres"
   ]
  },
  {
   "cell_type": "markdown",
   "id": "620e4c39",
   "metadata": {},
   "source": [
    "Now perform the actual fit. Save the optimized parameter values into `popt`."
   ]
  },
  {
   "cell_type": "code",
   "execution_count": 19,
   "id": "adeb90ac",
   "metadata": {},
   "outputs": [],
   "source": [
    "popt, pcov = spo.curve_fit(gauss, bin_centres, bin_entries)"
   ]
  },
  {
   "cell_type": "code",
   "execution_count": 20,
   "id": "b20e4ca2",
   "metadata": {},
   "outputs": [
    {
     "name": "stdout",
     "output_type": "stream",
     "text": [
      "[1. 1.]\n"
     ]
    }
   ],
   "source": [
    "print(popt)"
   ]
  },
  {
   "cell_type": "markdown",
   "id": "f68bf93c",
   "metadata": {},
   "source": [
    "Ok, this doesn't seem to work ... Let's add some bounds to the parameters: $\\mu \\in [12, 17]$ and $\\sigma \\in [0.1, 5.0]$."
   ]
  },
  {
   "cell_type": "code",
   "execution_count": 21,
   "id": "838fb3b2",
   "metadata": {},
   "outputs": [],
   "source": [
    "popt, pcov = spo.curve_fit(gauss, bin_centres, bin_entries, bounds=([12, 0.1], [17, 5]))"
   ]
  },
  {
   "cell_type": "code",
   "execution_count": 22,
   "id": "b1c906a3",
   "metadata": {},
   "outputs": [
    {
     "name": "stdout",
     "output_type": "stream",
     "text": [
      "[14.96983394  0.9676898 ]\n"
     ]
    }
   ],
   "source": [
    "print(popt)"
   ]
  },
  {
   "cell_type": "markdown",
   "id": "5bede37d",
   "metadata": {},
   "source": [
    "This worked!"
   ]
  },
  {
   "cell_type": "markdown",
   "id": "36aa62d4",
   "metadata": {},
   "source": [
    "For comparison, plot the histogram and the fitted curve again."
   ]
  },
  {
   "cell_type": "code",
   "execution_count": 23,
   "id": "e36897fe",
   "metadata": {},
   "outputs": [
    {
     "data": {
      "image/png": "[encoded data removed]",
      "text/plain": [
       "<Figure size 576x432 with 1 Axes>"
      ]
     },
     "metadata": {},
     "output_type": "display_data"
    }
   ],
   "source": [
    "plt.hist(values, bins=50, range=(10, 20), density=True, label=\"drawn values\")\n",
    "plt.plot(bin_centres, gauss(bin_centres, *popt), lw=4,\n",
    "         label='fit: mu=%.2f, sigma=%.2f' % tuple(popt))\n",
    "plt.legend()\n",
    "\n",
    "plt.show()"
   ]
  },
  {
   "cell_type": "markdown",
   "id": "9dd1280c-50dc-4e23-b523-73cc6329bb62",
   "metadata": {},
   "source": [
    "# Bonus question"
   ]
  },
  {
   "cell_type": "code",
   "execution_count": 24,
   "id": "6c9e3b8a-677e-4090-ac22-2cb4e4b59578",
   "metadata": {},
   "outputs": [],
   "source": [
    "def monty_hall(switch_door=False, print_debug=False):\n",
    "    \"\"\"Simulates the Monty Hall problem. Returns Win/Lose boolean.\n",
    "    \n",
    "    That is: choses a random door for the player, then choses another random \n",
    "    door to reveal (which is neither the winning door nor the door chosen by\n",
    "    the player). Then, with the 'switch_door' switch, let's the player switch\n",
    "    from the intially chosen door to the other door that is still closed.\n",
    "    Returns a Win/Lose boolean.\n",
    "\n",
    "    \"\"\"\n",
    "    doors = [\"A\", \"B\", \"C\"]\n",
    "    winning_door = np.random.choice(doors)\n",
    "    chosen_door = np.random.choice(doors)\n",
    "\n",
    "    # Doors the host can choose from for the reveal.\n",
    "    reveal_choices = doors.copy()\n",
    "    reveal_choices.remove(winning_door)\n",
    "    if chosen_door != winning_door:\n",
    "        reveal_choices.remove(chosen_door)\n",
    "\n",
    "    revealed_door = np.random.choice(reveal_choices)\n",
    "    \n",
    "    if print_debug:\n",
    "        print(f\"Chosen door:   {chosen_door}\")\n",
    "        print(f\"Winning door:  {winning_door}\")\n",
    "        print(f\"Revealed door: {revealed_door}\")\n",
    "    \n",
    "    if switch_door:\n",
    "        chosen_door = list(set(doors).difference(set(revealed_door)).difference(set(chosen_door)))[0]\n",
    "        if print_debug:\n",
    "            print(f\"New choice:    {chosen_door}\")\n",
    "\n",
    "    return chosen_door == winning_door"
   ]
  },
  {
   "cell_type": "code",
   "execution_count": 25,
   "id": "72f1aff5-19ae-4a58-b0d5-900d82c6d86a",
   "metadata": {},
   "outputs": [
    {
     "name": "stdout",
     "output_type": "stream",
     "text": [
      "Chosen door:   B\n",
      "Winning door:  C\n",
      "Revealed door: A\n",
      "New choice:    C\n"
     ]
    },
    {
     "data": {
      "text/plain": [
       "True"
      ]
     },
     "execution_count": 25,
     "metadata": {},
     "output_type": "execute_result"
    }
   ],
   "source": [
    "monty_hall(switch_door=True, print_debug=True)"
   ]
  },
  {
   "cell_type": "code",
   "execution_count": 26,
   "id": "5623cce6-cf39-4e6a-ac45-272c83431d7c",
   "metadata": {},
   "outputs": [
    {
     "name": "stdout",
     "output_type": "stream",
     "text": [
      "Chosen door:   C\n",
      "Winning door:  B\n",
      "Revealed door: A\n"
     ]
    },
    {
     "data": {
      "text/plain": [
       "False"
      ]
     },
     "execution_count": 26,
     "metadata": {},
     "output_type": "execute_result"
    }
   ],
   "source": [
    "monty_hall(switch_door=False, print_debug=True)"
   ]
  },
  {
   "cell_type": "code",
   "execution_count": 27,
   "id": "2fcbc054-a5ad-4648-b07b-8f3bdc2d6e72",
   "metadata": {},
   "outputs": [
    {
     "name": "stdout",
     "output_type": "stream",
     "text": [
      "When switching doors after reveal: 0.6716\n",
      "When *not* switching doors:        0.33615\n"
     ]
    }
   ],
   "source": [
    "n_experiments = 20_000\n",
    "\n",
    "experiments = [monty_hall(switch_door=True) for i in range(n_experiments)]\n",
    "print(f\"When switching doors after reveal: {experiments.count(True) / n_experiments}\")\n",
    "\n",
    "experiments = [monty_hall(switch_door=False) for i in range(n_experiments)]\n",
    "print(f\"When *not* switching doors:        {experiments.count(True) / n_experiments}\")"
   ]
  },
  {
   "cell_type": "code",
   "execution_count": null,
   "id": "a9d85f5e-d295-4806-bf1c-0ba432f6d918",
   "metadata": {},
   "outputs": [],
   "source": []
  }
 ],
 "metadata": {
  "kernelspec": {
   "display_name": "Python 3.8.3",
   "language": "python",
   "name": "python3"
  },
  "language_info": {
   "codemirror_mode": {
    "name": "ipython",
    "version": 3
   },
   "file_extension": ".py",
   "mimetype": "text/x-python",
   "name": "python",
   "nbconvert_exporter": "python",
   "pygments_lexer": "ipython3",
   "version": "3.8.3"
  },
  "vscode": {
   "interpreter": {
    "hash": "40d3a090f54c6569ab1632332b64b2c03c39dcf918b08424e98f38b5ae0af88f"
   }
  }
 },
 "nbformat": 4,
 "nbformat_minor": 5
}
