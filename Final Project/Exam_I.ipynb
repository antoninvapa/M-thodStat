{
 "cells": [
  {
   "cell_type": "code",
   "execution_count": null,
   "metadata": {},
   "outputs": [],
   "source": [
    "import numpy as np\n",
    "import matplotlib.pyplot as plt\n",
    "import scipy.integrate as integrate\n",
    "import scipy.stats as stats\n",
    "import numpy as np\n",
    "import scipy.integrate as integrate\n",
    "import matplotlib as mpl\n",
    "import matplotlib.pyplot as plt\n",
    "from cycler import cycler\n",
    "import scipy.interpolate\n",
    "import matplotlib.ticker as mticker\n",
    "from scipy.optimize import curve_fit\n",
    "import math\n",
    "%matplotlib inline\n",
    "from IPython.display import set_matplotlib_formats\n",
    "set_matplotlib_formats('svg')"
   ]
  },
  {
   "cell_type": "code",
   "execution_count": null,
   "metadata": {},
   "outputs": [],
   "source": [
    "myColors = [\"#009E73\", \"#0072B2\", \"#CC79A7\", \"#D55E00\", \"#56B4E9\", \"#F0E442\", \"#E69F00\", \"#000000\"]\n",
    "colors= [\"white\", myColors[4], myColors[1], myColors[0], myColors[5], myColors[6], myColors[3]]\n",
    "myNodes = [0.0, 0.1, 0.2, 0.35, 0.5, 0.85, 1.0]\n",
    "myCmap = mpl.colors.LinearSegmentedColormap.from_list(\"mycmap\", list(zip(myNodes, colors)))\n",
    "\n",
    "colorsLog= [\"white\",  myColors[4], myColors[1], myColors[6], myColors[3], myColors[3]]\n",
    "myNodesLog = [0.0, 0.1 , 0.2, 0.36, 0.6, 1]\n",
    "myCmapLog = mpl.colors.LinearSegmentedColormap.from_list(\"mycmapLog\", list(zip(myNodesLog, colorsLog)))"
   ]
  },
  {
   "cell_type": "code",
   "execution_count": null,
   "metadata": {},
   "outputs": [],
   "source": [
    "SMALL_SIZE = 10\n",
    "MEDIUM_SIZE = 12\n",
    "BIGGER_SIZE = 15\n",
    "\n",
    "mpl.rcParams['agg.path.chunksize'] = 10000\n",
    "plt.rcParams.update({\n",
    "\t'font.family':'serif',\n",
    "\t'mathtext.fontset' : 'cm',\n",
    "\t'mathtext.rm': 'serif',\n",
    "\t'font.weight': 'normal',\n",
    "\t})\n",
    "plt.rc('font', size=SMALL_SIZE)          # controls default text sizes\n",
    "plt.rc('axes', titlesize=SMALL_SIZE)     # fontsize of the axes title\n",
    "plt.rc('axes', labelsize=BIGGER_SIZE)    # fontsize of the x and y labels\n",
    "plt.rc('xtick', labelsize=SMALL_SIZE)    # fontsize of the tick labels\n",
    "plt.rc('ytick', labelsize=SMALL_SIZE)    # fontsize of the tick labels\n",
    "plt.rc('legend', fontsize=SMALL_SIZE)    # legend fontsize\n",
    "plt.rc('figure', titlesize=BIGGER_SIZE) \n",
    "plt.rcParams.update({'font.size': 15})\n",
    "\n",
    "mpl.rcParams['axes.prop_cycle'] = cycler(color=myColors)"
   ]
  }
 ],
 "metadata": {
  "kernelspec": {
   "display_name": "Python 3",
   "language": "python",
   "name": "python3"
  },
  "language_info": {
   "name": "python",
   "version": "3.8.9 (default, Oct 26 2021, 07:25:54) \n[Clang 13.0.0 (clang-1300.0.29.30)]"
  },
  "orig_nbformat": 4,
  "vscode": {
   "interpreter": {
    "hash": "31f2aee4e71d21fbe5cf8b01ff0e069b9275f58929596ceb00d14d90e3e16cd6"
   }
  }
 },
 "nbformat": 4,
 "nbformat_minor": 2
}
