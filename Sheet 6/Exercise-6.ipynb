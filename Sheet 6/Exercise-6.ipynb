{
 "cells": [
  {
   "cell_type": "code",
   "execution_count": 94,
   "metadata": {},
   "outputs": [],
   "source": [
    "from __future__ import division\n",
    "import numpy as np\n",
    "import matplotlib.pyplot as plt\n",
    "import matplotlib as mpl\n",
    "from scipy.interpolate import griddata, UnivariateSpline\n",
    "from matplotlib.pyplot import * # plotting library\n",
    "import math\n",
    "import pylab\n",
    "from matplotlib import ticker\n",
    "from mpmath import mp\n",
    "from scipy.optimize import curve_fit  \n",
    "import scipy\n",
    "import mpmath\n",
    "from numpy import random"
   ]
  },
  {
   "cell_type": "code",
   "execution_count": 62,
   "metadata": {},
   "outputs": [],
   "source": [
    "m=40*1.66*1e-27\n",
    "kb=1.38*1e-23\n",
    "T=300"
   ]
  },
  {
   "cell_type": "code",
   "execution_count": 63,
   "metadata": {},
   "outputs": [],
   "source": [
    "def DensityFunction(E, T):\n",
    "    return 2*(kb* T)**(-3/2)*np.sqrt(E/np.pi)*np.exp(-E/(kb*T))"
   ]
  },
  {
   "cell_type": "code",
   "execution_count": 64,
   "metadata": {},
   "outputs": [],
   "source": [
    "def EnergyGenerator(Ninput,Tinput):\n",
    "    ekcut=10*kb*Tinput\n",
    "    fmax=(2.0/math.pi)**0.5*(1.0/(kb*Tinput))*(math.e**(-0.5)) # The maximum for f(E_k) which we use as the height for the uniform envelope\n",
    "    ekoutput=list(range(Ninput))\n",
    "    ii=0\n",
    "    while ii<Ninput:\n",
    "        rx=np.random.uniform(0,ekcut)\n",
    "        ry=np.random.uniform(0,fmax)\n",
    "        if ry<DensityFunction(rx,Tinput):\n",
    "            ekoutput[ii]=rx\n",
    "            ii+=1\n",
    "            \n",
    "    return ekoutput"
   ]
  },
  {
   "cell_type": "code",
   "execution_count": 65,
   "metadata": {},
   "outputs": [],
   "source": [
    "npar = 400\n",
    "ek = EnergyGenerator(npar, T)"
   ]
  },
  {
   "cell_type": "code",
   "execution_count": 66,
   "metadata": {},
   "outputs": [],
   "source": [
    "xfit=np.arange(0, 5e-20, 1e-21)\n",
    "yfit = DensityFunction(xfit, T)"
   ]
  },
  {
   "cell_type": "code",
   "execution_count": 67,
   "metadata": {},
   "outputs": [
    {
     "data": {
      "text/plain": [
       "Text(0, 0.5, '$f(E_k)$')"
      ]
     },
     "execution_count": 67,
     "metadata": {},
     "output_type": "execute_result"
    },
    {
     "data": {
      "image/png": "[encoded data removed]",
      "text/plain": [
       "<Figure size 432x288 with 1 Axes>"
      ]
     },
     "metadata": {
      "needs_background": "light"
     },
     "output_type": "display_data"
    }
   ],
   "source": [
    "plt.hist(ek, 50, density=True, facecolor='lightblue')\n",
    "plot(xfit,yfit,'--',lw=3, color='r')\n",
    "\n",
    "plt.xlabel('$E_k$')\n",
    "plt.ylabel('$f(E_k)$')\n",
    "#plt.text(60, .025)\n",
    "#plt.xlim(40, 160)\n",
    "#plt.ylim(0, 0.03)"
   ]
  },
  {
   "cell_type": "code",
   "execution_count": 68,
   "metadata": {},
   "outputs": [
    {
     "name": "stderr",
     "output_type": "stream",
     "text": [
      "<ipython-input-68-288281429b74>:4: RuntimeWarning: overflow encountered in double_scalars\n",
      "  LF*=DensityFunction(E[i],T)\n"
     ]
    },
    {
     "data": {
      "text/plain": [
       "inf"
      ]
     },
     "execution_count": 68,
     "metadata": {},
     "output_type": "execute_result"
    }
   ],
   "source": [
    "def Likelihood_1(E, T):\n",
    "    LF=1\n",
    "    for i in range(len(E)):\n",
    "        LF*=DensityFunction(E[i],T)\n",
    "        # print(LF)\n",
    "    return LF\n",
    "\n",
    "Likelihood_1(ek, T)"
   ]
  },
  {
   "cell_type": "code",
   "execution_count": 69,
   "metadata": {},
   "outputs": [
    {
     "data": {
      "text/plain": [
       "-18231.166885085662"
      ]
     },
     "execution_count": 69,
     "metadata": {},
     "output_type": "execute_result"
    }
   ],
   "source": [
    "def Likelihood_2(E, T):\n",
    "    LF=0\n",
    "    for i in range(len(E)):\n",
    "        LF+=np.log(DensityFunction(E[i],T))\n",
    "        # print(LF)\n",
    "    return -LF\n",
    "\n",
    "Likelihood_2(ek, 300)"
   ]
  },
  {
   "cell_type": "code",
   "execution_count": 73,
   "metadata": {},
   "outputs": [
    {
     "name": "stdout",
     "output_type": "stream",
     "text": [
      "-18231.184049688534 302\n"
     ]
    },
    {
     "data": {
      "image/png": "[encoded data removed]",
      "text/plain": [
       "<Figure size 432x288 with 1 Axes>"
      ]
     },
     "metadata": {
      "needs_background": "light"
     },
     "output_type": "display_data"
    }
   ],
   "source": [
    "T_array=np.arange(250, 350, 1)\n",
    "\n",
    "L=np.empty(len(T_array), dtype=object)\n",
    "\n",
    "for j in range(len(T_array)):\n",
    "    L[j] = Likelihood_2(ek, T_array[j])\n",
    "\n",
    "plt.plot(T_array, L)\n",
    "min_index=np.argmin(L)\n",
    "print(min(L), T_array[min_index])"
   ]
  },
  {
   "cell_type": "code",
   "execution_count": 83,
   "metadata": {},
   "outputs": [],
   "source": [
    "def Estimate(T_estimate, T, Nbins, npar):\n",
    "    T_data = np.empty(Nbins, dtype=object)\n",
    "    for i in range(Nbins):\n",
    "        E_estimate = EnergyGenerator(npar, T)\n",
    "        LF = Likelihood_2(E_estimate, T_estimate)\n",
    "        min_index=np.argmin(LF)\n",
    "        T_data[i] = T_estimate[min_index]\n",
    "\n",
    "    return T_data"
   ]
  },
  {
   "cell_type": "code",
   "execution_count": 132,
   "metadata": {},
   "outputs": [],
   "source": [
    "N_exp=200\n",
    "npar = 1000\n",
    "\n",
    "T_hist=Estimate(T_array, T, N_exp, npar)"
   ]
  },
  {
   "cell_type": "code",
   "execution_count": 133,
   "metadata": {},
   "outputs": [
    {
     "data": {
      "text/plain": [
       "Text(0, 0.5, '#')"
      ]
     },
     "execution_count": 133,
     "metadata": {},
     "output_type": "execute_result"
    },
    {
     "data": {
      "image/png": "[encoded data removed]",
      "text/plain": [
       "<Figure size 432x288 with 1 Axes>"
      ]
     },
     "metadata": {
      "needs_background": "light"
     },
     "output_type": "display_data"
    }
   ],
   "source": [
    "plt.hist(T_hist, bins=20)\n",
    "plt.xlabel('Temperature')\n",
    "plt.ylabel('#')"
   ]
  },
  {
   "cell_type": "code",
   "execution_count": 96,
   "metadata": {},
   "outputs": [],
   "source": [
    "def gauss(x, mu, sigma):\n",
    "    A = 1/sigma/np.sqrt(2*np.pi)\n",
    "    return A * np.exp(- (x - mu)**2 / 2 / sigma**2)"
   ]
  },
  {
   "cell_type": "code",
   "execution_count": 134,
   "metadata": {},
   "outputs": [
    {
     "name": "stdout",
     "output_type": "stream",
     "text": [
      "The mean Temperature is  298.02 [K], and the standard deviation is  7.32\n"
     ]
    },
    {
     "data": {
      "text/plain": [
       "Text(0, 0.5, '#')"
      ]
     },
     "execution_count": 134,
     "metadata": {},
     "output_type": "execute_result"
    },
    {
     "data": {
      "image/png": "[encoded data removed]",
      "text/plain": [
       "<Figure size 432x288 with 1 Axes>"
      ]
     },
     "metadata": {
      "needs_background": "light"
     },
     "output_type": "display_data"
    }
   ],
   "source": [
    "bin_entries, bin_edges, _ = plt.hist(T_hist, bins=20, density=True, color='blue', alpha = 0.5, label='T Hist')\n",
    "bin_centers = np.array([0.5 * (bin_edges[i] + bin_edges[i+1]) for i in range(len(bin_edges)-1)])\n",
    "\n",
    "\n",
    "popt, pcov = scipy.optimize.curve_fit(gauss, bin_centers, bin_entries,bounds=([280, 2], [320, 50]))\n",
    "binfit=gauss(bin_centers, *popt)\n",
    "\n",
    "plt.plot(bin_centers, binfit, 'r-.', label='fit')\n",
    "print('The mean Temperature is ', round(popt[0], 2), '[K], and the standard deviation is ', round(popt[1],2))\n",
    "plt.legend()\n",
    "plt.xlabel('Temperature $[K]$')\n",
    "plt.ylabel('#')"
   ]
  },
  {
   "cell_type": "code",
   "execution_count": 131,
   "metadata": {},
   "outputs": [
    {
     "name": "stdout",
     "output_type": "stream",
     "text": [
      "the error is 11.0\n"
     ]
    },
    {
     "data": {
      "image/png": "[encoded data removed]",
      "text/plain": [
       "<Figure size 432x288 with 1 Axes>"
      ]
     },
     "metadata": {
      "needs_background": "light"
     },
     "output_type": "display_data"
    }
   ],
   "source": [
    "# Answer 7-5\n",
    "npar=500\n",
    "\n",
    "nL=len(T_array)\n",
    "\n",
    "L=np.empty(nL, dtype=object)\n",
    "ek=EnergyGenerator(npar,T)\n",
    "\n",
    "for i in range(0,nL):\n",
    "    L[i]=Likelihood_2(ek,T_array[i])\n",
    "\n",
    "imin=np.argmin(L)\n",
    "Lmin=L[imin]\n",
    "for i in range(0,nL):\n",
    "    L[i]-=Lmin\n",
    "\n",
    "i1=0\n",
    "i2=0\n",
    "for i in range(0,nL-1):\n",
    "    if L[i]>0.5 and L[i+1]<0.5:\n",
    "        i1=i\n",
    "    if L[i]<0.5 and L[i+1]>0.5:\n",
    "        i2=i\n",
    "\n",
    "Err_Estimate=(T_array[i2]-T_array[i1])/2\n",
    "\n",
    "plt.plot(T_array, L,'r.',ms=5,lw=1)\n",
    "\n",
    "print('the error is',  Err_Estimate)"
   ]
  },
  {
   "cell_type": "code",
   "execution_count": null,
   "metadata": {},
   "outputs": [],
   "source": [
    "#7-6"
   ]
  }
 ],
 "metadata": {
  "kernelspec": {
   "display_name": "Python 3.8.3",
   "language": "python",
   "name": "python3"
  },
  "language_info": {
   "codemirror_mode": {
    "name": "ipython",
    "version": 3
   },
   "file_extension": ".py",
   "mimetype": "text/x-python",
   "name": "python",
   "nbconvert_exporter": "python",
   "pygments_lexer": "ipython3",
   "version": "3.8.3"
  },
  "orig_nbformat": 4,
  "vscode": {
   "interpreter": {
    "hash": "40d3a090f54c6569ab1632332b64b2c03c39dcf918b08424e98f38b5ae0af88f"
   }
  }
 },
 "nbformat": 4,
 "nbformat_minor": 2
}
