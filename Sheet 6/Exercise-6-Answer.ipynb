{
 "cells": [
  {
   "cell_type": "code",
   "execution_count": 1,
   "metadata": {},
   "outputs": [],
   "source": [
    "## - - - - - - - - - - - - - - - - - - - - - - - - - - -\n",
    "##      import libraries\n",
    "## - - - - - - - - - - - - - - - - - - - - - - - - - - -\n",
    "\n",
    "from __future__ import division\n",
    "import numpy as np\n",
    "import matplotlib.pyplot as plt\n",
    "import matplotlib as mpl\n",
    "from scipy.interpolate import griddata, UnivariateSpline\n",
    "from matplotlib.pyplot import * # plotting library\n",
    "import math\n",
    "import pylab\n",
    "from matplotlib import ticker\n",
    "from mpmath import mp\n",
    "import mpmath\n",
    "from numpy import random\n",
    "\n"
   ]
  },
  {
   "cell_type": "code",
   "execution_count": 2,
   "metadata": {},
   "outputs": [],
   "source": [
    "## - - - - - - - - - - - - - - - - - - - - - - - - - - -\n",
    "##      plotting properties\n",
    "## - - - - - - - - - - - - - - - - - - - - - - - - - - -\n",
    "\n",
    "# plt.rcParams.update({\n",
    "# \t'text.usetex': True,\n",
    "# \t'font.family':'serif',\n",
    "# \t'mathtext.fontset' : 'cm',\n",
    "# \t'mathtext.rm': 'serif',\n",
    "# \t'font.weight': 'normal',\n",
    "# \t'axes.labelweight': 'normal',\n",
    "# \t'axes.linewidth': 1.5,\n",
    "# \t'xtick.major.width': 1.5,\n",
    "# \t'xtick.major.size': 10.0,\n",
    "# \t'xtick.minor.size': 5.0,\n",
    "# \t'ytick.major.width': 1.5,\n",
    "# \t'ytick.major.size': 10.0,\n",
    "# \t'ytick.minor.size': 5.0,\n",
    "# \t'font.size': 30})\n",
    "# plt.rcParams.update({'font.size': 20})\n",
    "\n",
    "\n"
   ]
  },
  {
   "cell_type": "code",
   "execution_count": 3,
   "metadata": {},
   "outputs": [],
   "source": [
    "## basic parameters\n",
    "\n",
    "\n",
    "m=85*1.66*1e-27\n",
    "kb=1.38*1e-23\n",
    "T=300"
   ]
  },
  {
   "cell_type": "code",
   "execution_count": 4,
   "metadata": {},
   "outputs": [],
   "source": [
    "## Answers in previous Exercise 5\n",
    "# the formula of the f(E_k)\n",
    "def fek(ekinput,Tinput):\n",
    "    ## ekinput and Tinput are the given kinetic energy and temperature\n",
    "    ## Here we return the f(E_k) value at a given E_k\n",
    "    \n",
    "    return 2*(1.0/(kb*Tinput))**1.5*(ekinput/math.pi)**0.5*(math.e**(-ekinput/(kb*Tinput)))"
   ]
  },
  {
   "cell_type": "code",
   "execution_count": 5,
   "metadata": {},
   "outputs": [],
   "source": [
    "## Answers in previous Exercise 5\n",
    "# Generating E_k with accept-reject method\n",
    "\n",
    "def ekgenerator(Ninput,Tinput):\n",
    "    ekcut=10*kb*Tinput\n",
    "    fmax=(2.0/math.pi)**0.5*(1.0/(kb*Tinput))*(math.e**(-0.5)) # The maximum for f(E_k) which we use as the height for the uniform envelope\n",
    "    ekoutput=list(range(Ninput))\n",
    "    ii=0\n",
    "    while ii<Ninput:\n",
    "        rx=np.random.uniform(0,ekcut)\n",
    "        ry=np.random.uniform(0,fmax)\n",
    "        if ry<fek(rx,Tinput):\n",
    "            ekoutput[ii]=rx\n",
    "            ii+=1\n",
    "            \n",
    "    return ekoutput\n",
    "\n",
    "    "
   ]
  },
  {
   "cell_type": "code",
   "execution_count": 6,
   "metadata": {},
   "outputs": [],
   "source": [
    "#Answer 7-1\n",
    "\n",
    "npar=400\n",
    "ek=ekgenerator(npar,T)        \n"
   ]
  },
  {
   "cell_type": "code",
   "execution_count": 7,
   "metadata": {},
   "outputs": [],
   "source": [
    "## draw the fitting functions\n",
    "\n",
    "xfit=np.arange(0,5e-20,1e-21)\n",
    "yfit=fek(xfit,T)\n",
    "\n"
   ]
  },
  {
   "cell_type": "code",
   "execution_count": 8,
   "metadata": {},
   "outputs": [
    {
     "data": {
      "image/png": "[encoded data removed]",
      "text/plain": [
       "<Figure size 432x288 with 1 Axes>"
      ]
     },
     "metadata": {
      "needs_background": "light"
     },
     "output_type": "display_data"
    }
   ],
   "source": [
    "plt.hist(ek, 50, density=True, facecolor='b', alpha=0.75)\n",
    "plot(xfit,yfit,'--',lw=3)\n",
    "\n",
    "plt.xlabel(r'$E_k$')\n",
    "plt.ylabel(r'$f(E_k)$')\n",
    "plt.title(r'$Histogram\\ of\\ f(E_k)$')\n",
    "#plt.text(60, .025)\n",
    "#plt.xlim(40, 160)\n",
    "#plt.ylim(0, 0.03)\n",
    "plt.tick_params(direction='in')\n",
    "plt.grid(True)\n",
    "plt.show()\n",
    "    "
   ]
  },
  {
   "cell_type": "code",
   "execution_count": 9,
   "metadata": {},
   "outputs": [
    {
     "name": "stdout",
     "output_type": "stream",
     "text": [
      "inf\n"
     ]
    }
   ],
   "source": [
    "# Answer 7-2\n",
    "\n",
    "def LLH(ektest,Ttest):\n",
    "    Loutput=1\n",
    "    for i in range(0,len(ektest)):\n",
    "        Loutput*=fek(ektest[i],Ttest)\n",
    "    return Loutput\n",
    "\n",
    "print (LLH(ek,250))"
   ]
  },
  {
   "cell_type": "code",
   "execution_count": 10,
   "metadata": {},
   "outputs": [
    {
     "name": "stdout",
     "output_type": "stream",
     "text": [
      "-18190.232925371936\n"
     ]
    }
   ],
   "source": [
    "# Answer 7-2\n",
    "\n",
    "def LLH(ektest,Ttest):\n",
    "    Loutput=0\n",
    "    for i in range(0,len(ektest)):\n",
    "        Loutput+=math.log(fek(ektest[i],Ttest))\n",
    "    return -Loutput\n",
    "\n",
    "print (LLH(ek,250))"
   ]
  },
  {
   "cell_type": "code",
   "execution_count": 11,
   "metadata": {},
   "outputs": [],
   "source": [
    "# Answer 7-3\n",
    "\n",
    "Testimate=np.linspace(250, 350, 101)\n",
    "\n",
    "nL=len(Testimate)\n",
    "L=list(range(nL))\n",
    "\n",
    "for i in range(0,nL):\n",
    "    L[i]=LLH(ek,Testimate[i])\n",
    "\n",
    "imin=L.index(min(L))"
   ]
  },
  {
   "cell_type": "code",
   "execution_count": 12,
   "metadata": {},
   "outputs": [
    {
     "name": "stdout",
     "output_type": "stream",
     "text": [
      "315.0 -18207.519808996472\n"
     ]
    }
   ],
   "source": [
    "print (Testimate[imin],min(L))"
   ]
  },
  {
   "cell_type": "code",
   "execution_count": null,
   "metadata": {},
   "outputs": [],
   "source": []
  },
  {
   "cell_type": "code",
   "execution_count": 13,
   "metadata": {},
   "outputs": [],
   "source": [
    "# Answer 7-4\n",
    "\n",
    "def maxLLH(xestimate,testdata):\n",
    "    ntest=len(xestimate)\n",
    "    Ltest=list(range(ntest))\n",
    "    for i in range(0,ntest):\n",
    "        Ltest[i]=LLH(testdata,xestimate[i])\n",
    "    ioutput=Ltest.index(min(Ltest))\n",
    "    return xestimate[ioutput],ioutput"
   ]
  },
  {
   "cell_type": "code",
   "execution_count": 14,
   "metadata": {},
   "outputs": [],
   "source": [
    "npar=400\n",
    "Nexp=200\n",
    "Tfinal=list(range(Nexp))\n",
    "ifinal=list(range(Nexp))\n",
    "\n",
    "for i in range(0,Nexp):\n",
    "    ek=ekgenerator(npar,T)\n",
    "    Tfinal[i],ifinal[i]=maxLLH(Testimate,ek)\n",
    "    \n"
   ]
  },
  {
   "cell_type": "code",
   "execution_count": 15,
   "metadata": {},
   "outputs": [
    {
     "data": {
      "image/png": "[encoded data removed]",
      "text/plain": [
       "<Figure size 432x288 with 1 Axes>"
      ]
     },
     "metadata": {
      "needs_background": "light"
     },
     "output_type": "display_data"
    }
   ],
   "source": [
    "plt.hist(Tfinal, 20, density=True, facecolor='b', alpha=0.75)\n",
    "\n",
    "plt.xlabel(r'$T$')\n",
    "plt.ylabel(r'$\\#(T)$')\n",
    "plt.tick_params(direction='in')\n",
    "plt.grid(True)\n",
    "plt.show()\n",
    "    "
   ]
  },
  {
   "cell_type": "code",
   "execution_count": 16,
   "metadata": {},
   "outputs": [],
   "source": [
    "from scipy.optimize import curve_fit  \n",
    "import scipy.optimize as spo\n",
    "\n",
    "\n",
    "def gauss(x, mu, sigma):\n",
    "    ## Define the Gaussian shape for the fit later\n",
    "    pref = 1 / sigma / np.sqrt(2 * np.pi)\n",
    "    return pref * np.exp(- pow(x - mu, 2) / 2 / sigma / sigma)"
   ]
  },
  {
   "cell_type": "code",
   "execution_count": 17,
   "metadata": {},
   "outputs": [
    {
     "name": "stdout",
     "output_type": "stream",
     "text": [
      "[298.81570968  11.49922811]\n"
     ]
    },
    {
     "data": {
      "image/png": "[encoded data removed]",
      "text/plain": [
       "<Figure size 432x288 with 1 Axes>"
      ]
     },
     "metadata": {
      "needs_background": "light"
     },
     "output_type": "display_data"
    }
   ],
   "source": [
    "bin_entries, bin_edges, _ =plt.hist(Tfinal, 20, density=True, facecolor='r', alpha=0.75)\n",
    "bin_centers = np.array([0.5 * (bin_edges[i] + bin_edges[i+1]) for i in range(len(bin_edges)-1)])\n",
    "\n",
    "\n",
    "popt, pcov = spo.curve_fit(gauss, bin_centers, bin_entries,bounds=([280, 2], [320, 50]))\n",
    "binfit=gauss(bin_centers, *popt)\n",
    "\n",
    "print (popt)\n"
   ]
  },
  {
   "cell_type": "code",
   "execution_count": 18,
   "metadata": {},
   "outputs": [
    {
     "data": {
      "image/png": "[encoded data removed]",
      "text/plain": [
       "<Figure size 432x288 with 1 Axes>"
      ]
     },
     "metadata": {
      "needs_background": "light"
     },
     "output_type": "display_data"
    }
   ],
   "source": [
    "plt.hist(Tfinal, 20, density=True, facecolor='b', alpha=0.75)\n",
    "\n",
    "plt.plot(bin_centers, binfit, lw=4,\n",
    "         label='fit: mu=%.2f, sigma=%.2f' % tuple(popt))\n",
    "\n",
    "plt.xlabel(r'$\\hat{T}$')\n",
    "\n",
    "plt.title(r'$Histogram\\ of\\ \\hat{T}$')\n",
    "#plt.text(60, .025)\n",
    "#plt.xlim(40, 160)\n",
    "#plt.ylim(0, 0.03)\n",
    "plt.tick_params(direction='in')\n",
    "plt.grid(True)\n",
    "plt.show()\n",
    "    "
   ]
  },
  {
   "cell_type": "code",
   "execution_count": 19,
   "metadata": {},
   "outputs": [
    {
     "name": "stdout",
     "output_type": "stream",
     "text": [
      "The error of the estimation is: 11.499228105051412\n"
     ]
    }
   ],
   "source": [
    "print ('The error of the estimation is:',popt[1]) "
   ]
  },
  {
   "cell_type": "code",
   "execution_count": null,
   "metadata": {},
   "outputs": [],
   "source": []
  },
  {
   "cell_type": "code",
   "execution_count": 20,
   "metadata": {},
   "outputs": [],
   "source": [
    "# Answer 7-5\n",
    "npar=500\n",
    "\n",
    "nL=len(Testimate)\n",
    "L=list(range(nL))\n",
    "ek=ekgenerator(npar,T)\n",
    "\n",
    "for i in range(0,nL):\n",
    "    L[i]=LLH(ek,Testimate[i])\n",
    "\n",
    "imin=L.index(min(L))\n",
    "Lmin=min(L)\n",
    "for i in range(0,nL):\n",
    "    L[i]-=Lmin"
   ]
  },
  {
   "cell_type": "code",
   "execution_count": 21,
   "metadata": {},
   "outputs": [
    {
     "data": {
      "image/png": "[encoded data removed]",
      "text/plain": [
       "<Figure size 432x288 with 1 Axes>"
      ]
     },
     "metadata": {
      "needs_background": "light"
     },
     "output_type": "display_data"
    }
   ],
   "source": [
    "plot(Testimate,L,'-',lw=3)\n",
    "plot(Testimate,L,'.',ms=10,lw=3)\n",
    "\n",
    "plt.xlabel(r'$T$')\n",
    "plt.ylabel(r'$-ln\\ L+ln\\ L_{min}$')\n",
    "plt.title(r'$The\\ likelihood$')\n",
    "#plt.text(60, .025)\n",
    "plt.xlim(290, 340)\n",
    "plt.ylim(0,2.0)\n",
    "plt.tick_params(direction='in')\n",
    "plt.grid(True)\n",
    "plt.show()\n",
    "    \n",
    "    "
   ]
  },
  {
   "cell_type": "code",
   "execution_count": 22,
   "metadata": {},
   "outputs": [
    {
     "name": "stdout",
     "output_type": "stream",
     "text": [
      "The error of the estimation= 11.0\n"
     ]
    }
   ],
   "source": [
    "i1=0\n",
    "i2=0\n",
    "for i in range(0,nL-1):\n",
    "    if L[i]>0.5 and L[i+1]<0.5:\n",
    "        i1=i\n",
    "    if L[i]<0.5 and L[i+1]>0.5:\n",
    "        i2=i\n",
    "\n",
    "        \n",
    "print ('The error of the estimation=',(Testimate[i2]-Testimate[i1])/2)\n",
    "        "
   ]
  },
  {
   "cell_type": "code",
   "execution_count": null,
   "metadata": {},
   "outputs": [],
   "source": []
  }
 ],
 "metadata": {
  "kernelspec": {
   "display_name": "Python 3.8.3",
   "language": "python",
   "name": "python3"
  },
  "language_info": {
   "codemirror_mode": {
    "name": "ipython",
    "version": 3
   },
   "file_extension": ".py",
   "mimetype": "text/x-python",
   "name": "python",
   "nbconvert_exporter": "python",
   "pygments_lexer": "ipython3",
   "version": "3.8.3"
  },
  "vscode": {
   "interpreter": {
    "hash": "40d3a090f54c6569ab1632332b64b2c03c39dcf918b08424e98f38b5ae0af88f"
   }
  }
 },
 "nbformat": 4,
 "nbformat_minor": 2
}
