{
 "cells": [
  {
   "cell_type": "markdown",
   "id": "f98cc5bc",
   "metadata": {},
   "source": [
    "# Solutions to sheet 3"
   ]
  },
  {
   "cell_type": "markdown",
   "id": "35557c14",
   "metadata": {},
   "source": [
    "Import the necessary libraries: `numpy`, `matplotlib`. We can use the `as` keyword to define shortcuts to access the libraries (example: `import numpy as np` means we can access numpy functions with the `np.` syntax)."
   ]
  },
  {
   "cell_type": "code",
   "execution_count": null,
   "id": "e544ef68",
   "metadata": {},
   "outputs": [],
   "source": [
    "import numpy as np\n",
    "import matplotlib as mpl\n",
    "import matplotlib.pyplot as plt\n",
    "import scipy.integrate as integrate\n",
    "import scipy.stats as stats"
   ]
  },
  {
   "cell_type": "code",
   "execution_count": null,
   "id": "be2eb9df",
   "metadata": {},
   "outputs": [],
   "source": [
    "## - - - - - - - - - - - - - - - - - - - - - - - - - - -\n",
    "##      plotting properties\n",
    "## - - - - - - - - - - - - - - - - - - - - - - - - - - -\n",
    "\n",
    "import json\n",
    "with open(\"plt_rcparams.json\", encoding=\"utf8\") as sf:\n",
    "    mpl.rcParams.update(json.load(sf))"
   ]
  },
  {
   "cell_type": "markdown",
   "id": "a144c32d",
   "metadata": {},
   "source": [
    "Fix some of the physics parameters we will use."
   ]
  },
  {
   "cell_type": "code",
   "execution_count": null,
   "id": "fd78ce6a",
   "metadata": {},
   "outputs": [],
   "source": [
    "m_top = 173       # in GeV\n",
    "gamma_top = 1.33  # in GeV"
   ]
  },
  {
   "cell_type": "markdown",
   "id": "b09d9bc7",
   "metadata": {},
   "source": [
    "## Implement Cauchy and Gauss distributions"
   ]
  },
  {
   "cell_type": "markdown",
   "id": "fb23a421",
   "metadata": {},
   "source": [
    "This implements a Cauchy distribution according to:\n",
    "\n",
    "$$\n",
    "f(x) = \\frac{1}{\\pi\\gamma} \\cdot \\frac{\\gamma^2}{(x - x_0)^2 + \\gamma^2}\n",
    "$$"
   ]
  },
  {
   "cell_type": "code",
   "execution_count": null,
   "id": "e0a10d70",
   "metadata": {},
   "outputs": [],
   "source": [
    "def Cauchy(x, x_0, gamma):\n",
    "    \"\"\"Implementation of a Cauchy distribution.\n",
    "    \n",
    "    Args:\n",
    "      x: the point at which to evaluate\n",
    "      x_0: the central value of the distribution\n",
    "      gamma: the half width at half maximum\n",
    "    \n",
    "    Returns:\n",
    "      function evaluated at point x\n",
    "    \"\"\"\n",
    "    pref = 1 / np.pi / gamma\n",
    "    return pref * np.power(gamma, 2) / (np.power(x - x_0, 2) + np.power(gamma, 2))"
   ]
  },
  {
   "cell_type": "markdown",
   "id": "772abfb7",
   "metadata": {},
   "source": [
    "This implements a Gauss distribution according to:\n",
    "\n",
    "$$\n",
    "f(x) = \\frac{1}{\\sigma \\sqrt{2 \\pi}} \\cdot \\exp \\left( - \\frac{(x - \\mu)^2}{ 2 \\sigma^2} \\right)\n",
    "$$"
   ]
  },
  {
   "cell_type": "code",
   "execution_count": null,
   "id": "28be1fb0",
   "metadata": {},
   "outputs": [],
   "source": [
    "def Gauss(x, mu, sigma):\n",
    "    \"\"\"Implementation of a Gauss distribution.\n",
    "    \n",
    "    Args:\n",
    "      x: the point at which to evaluate\n",
    "      mu: the central value of the distribution\n",
    "      sigma: the standard deviation of the distribution\n",
    "    \n",
    "    Returns:\n",
    "      function evaluated at point x\n",
    "    \"\"\"\n",
    "    pref = 1 / sigma / np.sqrt(2 * np.pi)\n",
    "    return pref * np.exp(- np.power(x - mu, 2) / 2 / sigma / sigma)"
   ]
  },
  {
   "cell_type": "markdown",
   "id": "8366bd35",
   "metadata": {},
   "source": [
    "## Plot the distribution"
   ]
  },
  {
   "cell_type": "markdown",
   "id": "eff283ac",
   "metadata": {},
   "source": [
    "Let's plot 200 points in the interval $[170, 176]$."
   ]
  },
  {
   "cell_type": "code",
   "execution_count": null,
   "id": "daaafcce",
   "metadata": {},
   "outputs": [],
   "source": [
    "n_points = 200\n",
    "interval = (170, 176)"
   ]
  },
  {
   "cell_type": "code",
   "execution_count": null,
   "id": "e7625a64",
   "metadata": {},
   "outputs": [],
   "source": [
    "xfunc = np.linspace(*interval, n_points)"
   ]
  },
  {
   "cell_type": "code",
   "execution_count": null,
   "id": "650efe2c",
   "metadata": {},
   "outputs": [],
   "source": [
    "yfunc = Cauchy(xfunc, m_top, gamma_top/2)"
   ]
  },
  {
   "cell_type": "code",
   "execution_count": null,
   "id": "aca6b7c7",
   "metadata": {},
   "outputs": [],
   "source": [
    "plt.plot(xfunc, yfunc, label=\"Cauchy distribution\", lw=4)\n",
    "plt.xlim(*interval)\n",
    "plt.xlabel(\"mass [GeV]\")\n",
    "plt.legend()\n",
    "\n",
    "plt.show()"
   ]
  },
  {
   "cell_type": "markdown",
   "id": "1a54c34b",
   "metadata": {},
   "source": [
    "## Accept-reject method"
   ]
  },
  {
   "cell_type": "markdown",
   "id": "54e3f13e",
   "metadata": {},
   "source": [
    "Use a random number generator to generate 2000 random points following a uniform distribution scaled with the pre-factor $0.3$."
   ]
  },
  {
   "cell_type": "code",
   "execution_count": null,
   "id": "8c9bbca8",
   "metadata": {},
   "outputs": [],
   "source": [
    "gen = np.random.default_rng()"
   ]
  },
  {
   "cell_type": "code",
   "execution_count": null,
   "id": "f557f5ed",
   "metadata": {},
   "outputs": [],
   "source": [
    "n_samples = 2000"
   ]
  },
  {
   "cell_type": "code",
   "execution_count": null,
   "id": "c4dc0053",
   "metadata": {},
   "outputs": [],
   "source": [
    "x = gen.uniform(*interval, n_samples)"
   ]
  },
  {
   "cell_type": "code",
   "execution_count": null,
   "id": "0f743498",
   "metadata": {},
   "outputs": [],
   "source": [
    "y = gen.uniform(0, 0.5, n_samples)"
   ]
  },
  {
   "cell_type": "code",
   "execution_count": null,
   "id": "deb5ffe7",
   "metadata": {},
   "outputs": [],
   "source": [
    "plt.plot(xfunc, np.full(n_points, 0.5), label=\"Uniform envelope\", lw=4)\n",
    "plt.scatter(x, y, label=\"Sample points\", marker=\".\")\n",
    "plt.plot(xfunc, yfunc, label=\"Cauchy distribution\", lw=4)\n",
    "plt.xlim(*interval)\n",
    "plt.ylim([0, 0.75])\n",
    "plt.xlabel(\"mass [GeV]\")\n",
    "plt.legend()\n",
    "\n",
    "plt.show()"
   ]
  },
  {
   "cell_type": "markdown",
   "id": "b62afc15",
   "metadata": {},
   "source": [
    "We cannot distinguish accepted and rejected points yet. So let's apply the Von Neumann criterion."
   ]
  },
  {
   "cell_type": "code",
   "execution_count": null,
   "id": "dff30a41",
   "metadata": {},
   "outputs": [],
   "source": [
    "accepted = (y <= Cauchy(x, m_top, gamma_top/2))"
   ]
  },
  {
   "cell_type": "code",
   "execution_count": null,
   "id": "5e006d28",
   "metadata": {},
   "outputs": [],
   "source": [
    "x_accepted = x[accepted]\n",
    "y_accepted = y[accepted]"
   ]
  },
  {
   "cell_type": "code",
   "execution_count": null,
   "id": "457328c2",
   "metadata": {},
   "outputs": [],
   "source": [
    "x_rejected = x[np.invert(accepted)]\n",
    "y_rejected = y[np.invert(accepted)]"
   ]
  },
  {
   "cell_type": "code",
   "execution_count": null,
   "id": "812736e4",
   "metadata": {},
   "outputs": [],
   "source": [
    "plt.plot(xfunc, np.full(n_points, 0.5), label=\"Uniform envelope\", lw=4)\n",
    "plt.plot(xfunc, yfunc, label=\"Cauchy distribution\", lw=4)\n",
    "plt.scatter(x_rejected, y_rejected, label=\"Rejected points\", marker=\".\")\n",
    "plt.scatter(x_accepted, y_accepted, label=\"Accepted points\", marker=\".\")\n",
    "plt.xlim(*interval)\n",
    "plt.ylim([0, 0.75])\n",
    "plt.xlabel(\"mass [GeV]\")\n",
    "plt.legend()\n",
    "\n",
    "plt.show()"
   ]
  },
  {
   "cell_type": "code",
   "execution_count": null,
   "id": "2bba21c2",
   "metadata": {},
   "outputs": [],
   "source": [
    "print(\"Acceptance rate: {}\".format(len(x_accepted) / len(x)))"
   ]
  },
  {
   "cell_type": "code",
   "execution_count": null,
   "id": "4e3995ae-19fa-4646-af9d-547f8a58b1f0",
   "metadata": {},
   "outputs": [],
   "source": [
    "print(\"Integral: {}\".format(len(x_accepted) / len(x) * 3))"
   ]
  },
  {
   "cell_type": "code",
   "execution_count": null,
   "id": "91313522",
   "metadata": {},
   "outputs": [],
   "source": []
  }
 ],
 "metadata": {
  "kernelspec": {
   "display_name": "Python 3 (ipykernel)",
   "language": "python",
   "name": "python3"
  },
  "language_info": {
   "codemirror_mode": {
    "name": "ipython",
    "version": 3
   },
   "file_extension": ".py",
   "mimetype": "text/x-python",
   "name": "python",
   "nbconvert_exporter": "python",
   "pygments_lexer": "ipython3",
   "version": "3.8.11"
  }
 },
 "nbformat": 4,
 "nbformat_minor": 5
}
