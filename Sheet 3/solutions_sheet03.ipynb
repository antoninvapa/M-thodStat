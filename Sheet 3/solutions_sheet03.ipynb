{
 "cells": [
  {
   "cell_type": "markdown",
   "id": "f98cc5bc",
   "metadata": {},
   "source": [
    "# Solutions to sheet 4"
   ]
  },
  {
   "cell_type": "markdown",
   "id": "35557c14",
   "metadata": {},
   "source": [
    "Import the necessary libraries: `numpy`, `matplotlib`. We can use the `as` keyword to define shortcuts to access the libraries (example: `import numpy as np` means we can access numpy functions with the `np.` syntax)."
   ]
  },
  {
   "cell_type": "code",
   "execution_count": null,
   "id": "e544ef68",
   "metadata": {},
   "outputs": [],
   "source": [
    "import numpy as np\n",
    "import matplotlib.pyplot as plt\n",
    "import scipy.integrate as integrate\n",
    "import scipy.stats as stats"
   ]
  },
  {
   "cell_type": "code",
   "execution_count": null,
   "id": "be2eb9df",
   "metadata": {},
   "outputs": [],
   "source": [
    "plt.rcParams.update({\n",
    "  'figure.figsize': [8.0, 5.0],\n",
    "  'xtick.major.width': 1.5,\n",
    "  'xtick.major.size': 10.0,\n",
    "  'xtick.minor.size': 5.0,\n",
    "  'ytick.major.width': 1.5,\n",
    "  'ytick.major.size': 10.0,\n",
    "  'ytick.minor.size': 5.0,\n",
    "  'font.size': 16,\n",
    "})"
   ]
  },
  {
   "cell_type": "markdown",
   "id": "a144c32d",
   "metadata": {},
   "source": [
    "Fix some of the physics parameters we will use."
   ]
  },
  {
   "cell_type": "code",
   "execution_count": null,
   "id": "fd78ce6a",
   "metadata": {},
   "outputs": [],
   "source": [
    "m_top = 173       # in GeV\n",
    "gamma_top = 1.33  # in GeV"
   ]
  },
  {
   "cell_type": "markdown",
   "id": "b09d9bc7",
   "metadata": {},
   "source": [
    "## Implement Cauchy and Gauss distributions"
   ]
  },
  {
   "cell_type": "markdown",
   "id": "fb23a421",
   "metadata": {},
   "source": [
    "This implements a Cauchy distribution according to:\n",
    "\n",
    "$$\n",
    "f(x) = \\frac{1}{\\pi\\gamma} \\cdot \\frac{\\gamma^2}{(x - x_0)^2 + \\gamma^2}\n",
    "$$"
   ]
  },
  {
   "cell_type": "code",
   "execution_count": null,
   "id": "e0a10d70",
   "metadata": {},
   "outputs": [],
   "source": [
    "def Cauchy(x, x_0, gamma):\n",
    "    \"\"\"Implementation of a Cauchy distribution.\n",
    "    \n",
    "    Args:\n",
    "      x: the point at which to evaluate\n",
    "      x_0: the central value of the distribution\n",
    "      gamma: the half width at half maximum\n",
    "    \n",
    "    Returns:\n",
    "      function evaluated at point x\n",
    "    \"\"\"\n",
    "    pref = 1 / np.pi / gamma\n",
    "    return pref * np.power(gamma, 2) / (np.power(x - x_0, 2) + np.power(gamma, 2))"
   ]
  },
  {
   "cell_type": "markdown",
   "id": "772abfb7",
   "metadata": {},
   "source": [
    "This implements a Gauss distribution according to:\n",
    "\n",
    "$$\n",
    "f(x) = \\frac{1}{\\sigma \\sqrt{2 \\pi}} \\cdot \\exp \\left( - \\frac{(x - \\mu)^2}{ 2 \\sigma^2} \\right)\n",
    "$$"
   ]
  },
  {
   "cell_type": "code",
   "execution_count": null,
   "id": "28be1fb0",
   "metadata": {},
   "outputs": [],
   "source": [
    "def Gauss(x, mu, sigma):\n",
    "    \"\"\"Implementation of a Gauss distribution.\n",
    "    \n",
    "    Args:\n",
    "      x: the point at which to evaluate\n",
    "      mu: the central value of the distribution\n",
    "      sigma: the standard deviation of the distribution\n",
    "    \n",
    "    Returns:\n",
    "      function evaluated at point x\n",
    "    \"\"\"\n",
    "    pref = 1 / sigma / np.sqrt(2 * np.pi)\n",
    "    return pref * np.exp(- np.power(x - mu, 2) / 2 / sigma / sigma)"
   ]
  },
  {
   "cell_type": "markdown",
   "id": "8366bd35",
   "metadata": {},
   "source": [
    "## Plot the distribution"
   ]
  },
  {
   "cell_type": "markdown",
   "id": "eff283ac",
   "metadata": {},
   "source": [
    "Let's plot 200 points in the interval $[170, 176]$."
   ]
  },
  {
   "cell_type": "code",
   "execution_count": null,
   "id": "daaafcce",
   "metadata": {},
   "outputs": [],
   "source": [
    "n_points = 200\n",
    "interval = (170, 176)"
   ]
  },
  {
   "cell_type": "code",
   "execution_count": null,
   "id": "e7625a64",
   "metadata": {},
   "outputs": [],
   "source": [
    "xfunc = np.linspace(*interval, n_points)"
   ]
  },
  {
   "cell_type": "code",
   "execution_count": null,
   "id": "650efe2c",
   "metadata": {},
   "outputs": [],
   "source": [
    "yfunc = Cauchy(xfunc, m_top, gamma_top/2)"
   ]
  },
  {
   "cell_type": "code",
   "execution_count": null,
   "id": "aca6b7c7",
   "metadata": {},
   "outputs": [],
   "source": [
    "plt.plot(xfunc, yfunc, label=\"Cauchy distribution\", lw=4)\n",
    "plt.xlim(*interval)\n",
    "plt.xlabel(\"mass [GeV]\")\n",
    "plt.legend()\n",
    "plt.tight_layout()"
   ]
  },
  {
   "cell_type": "markdown",
   "id": "1a54c34b",
   "metadata": {},
   "source": [
    "## Accept-reject method"
   ]
  },
  {
   "cell_type": "markdown",
   "id": "54e3f13e",
   "metadata": {},
   "source": [
    "Use a random number generator to generate 2000 random points following a uniform distribution scaled with the pre-factor $0.3$."
   ]
  },
  {
   "cell_type": "code",
   "execution_count": null,
   "id": "8c9bbca8",
   "metadata": {},
   "outputs": [],
   "source": [
    "gen = np.random.default_rng()"
   ]
  },
  {
   "cell_type": "code",
   "execution_count": null,
   "id": "f557f5ed",
   "metadata": {},
   "outputs": [],
   "source": [
    "n_samples = 2000"
   ]
  },
  {
   "cell_type": "code",
   "execution_count": null,
   "id": "c4dc0053",
   "metadata": {},
   "outputs": [],
   "source": [
    "x = gen.uniform(*interval, n_samples)"
   ]
  },
  {
   "cell_type": "code",
   "execution_count": null,
   "id": "0f743498",
   "metadata": {},
   "outputs": [],
   "source": [
    "y = gen.uniform(0, 0.5, n_samples)"
   ]
  },
  {
   "cell_type": "code",
   "execution_count": null,
   "id": "deb5ffe7",
   "metadata": {},
   "outputs": [],
   "source": [
    "plt.plot(xfunc, np.full(n_points, 0.5), label=\"Uniform envelope\", lw=4)\n",
    "plt.scatter(x, y, label=\"Sample points\", marker=\".\")\n",
    "plt.plot(xfunc, yfunc, label=\"Cauchy distribution\", lw=4)\n",
    "plt.xlim(*interval)\n",
    "plt.ylim([0, 0.75])\n",
    "plt.xlabel(\"mass [GeV]\")\n",
    "plt.legend()\n",
    "plt.tight_layout()"
   ]
  },
  {
   "cell_type": "markdown",
   "id": "b62afc15",
   "metadata": {},
   "source": [
    "We cannot distinguish accepted and rejected points yet. So let's apply the Von Neumann criterion."
   ]
  },
  {
   "cell_type": "code",
   "execution_count": null,
   "id": "dff30a41",
   "metadata": {},
   "outputs": [],
   "source": [
    "accepted = (y <= Cauchy(x, m_top, gamma_top/2))"
   ]
  },
  {
   "cell_type": "code",
   "execution_count": null,
   "id": "5e006d28",
   "metadata": {},
   "outputs": [],
   "source": [
    "x_accepted = x[accepted]\n",
    "y_accepted = y[accepted]"
   ]
  },
  {
   "cell_type": "code",
   "execution_count": null,
   "id": "457328c2",
   "metadata": {},
   "outputs": [],
   "source": [
    "x_rejected = x[np.invert(accepted)]\n",
    "y_rejected = y[np.invert(accepted)]"
   ]
  },
  {
   "cell_type": "code",
   "execution_count": null,
   "id": "812736e4",
   "metadata": {},
   "outputs": [],
   "source": [
    "plt.plot(xfunc, np.full(n_points, 0.5), label=\"Uniform envelope\", lw=4)\n",
    "plt.plot(xfunc, yfunc, label=\"Cauchy distribution\", lw=4)\n",
    "plt.scatter(x_rejected, y_rejected, label=\"Rejected points\", marker=\".\")\n",
    "plt.scatter(x_accepted, y_accepted, label=\"Accepted points\", marker=\".\")\n",
    "plt.xlim(*interval)\n",
    "plt.xlabel(\"mass [GeV]\")\n",
    "plt.legend()\n",
    "plt.tight_layout()"
   ]
  },
  {
   "cell_type": "code",
   "execution_count": null,
   "id": "2bba21c2",
   "metadata": {},
   "outputs": [],
   "source": [
    "print(\"Acceptance rate: {}\".format(len(x_accepted) / len(x)))"
   ]
  },
  {
   "cell_type": "markdown",
   "id": "756f17ca",
   "metadata": {},
   "source": [
    "## accept-reject method with Gauss"
   ]
  },
  {
   "cell_type": "markdown",
   "id": "d5173fd3",
   "metadata": {},
   "source": [
    "Let's repeat the same exercise, but this time following a Gauss distribution."
   ]
  },
  {
   "cell_type": "code",
   "execution_count": null,
   "id": "c857fdad",
   "metadata": {},
   "outputs": [],
   "source": [
    "gfunc = 2 * Gauss(xfunc, m_top, gamma_top)"
   ]
  },
  {
   "cell_type": "code",
   "execution_count": null,
   "id": "e9d2e989",
   "metadata": {},
   "outputs": [],
   "source": [
    "plt.plot(xfunc, gfunc, label=\"Gauss distribution\", lw=4)\n",
    "plt.plot(xfunc, yfunc, label=\"Cauchy distribution\", lw=4)\n",
    "plt.xlim(*interval)\n",
    "plt.xlabel(\"mass [GeV]\")\n",
    "plt.legend()\n",
    "plt.tight_layout()"
   ]
  },
  {
   "cell_type": "code",
   "execution_count": null,
   "id": "91f0e102",
   "metadata": {},
   "outputs": [],
   "source": [
    "n_samples = 2000"
   ]
  },
  {
   "cell_type": "code",
   "execution_count": null,
   "id": "ec96166d",
   "metadata": {},
   "outputs": [],
   "source": [
    "x = gen.uniform(*interval, n_samples)"
   ]
  },
  {
   "cell_type": "code",
   "execution_count": null,
   "id": "cbe70b12",
   "metadata": {},
   "outputs": [],
   "source": [
    "y = 2 * Gauss(x, m_top, gamma_top) * gen.uniform(0, 1, n_samples)"
   ]
  },
  {
   "cell_type": "code",
   "execution_count": null,
   "id": "4900a9be",
   "metadata": {},
   "outputs": [],
   "source": [
    "plt.plot(xfunc, gfunc, label=\"Gauss distribution\", lw=4)\n",
    "plt.plot(xfunc, yfunc, label=\"Cauchy distribution\", lw=4)\n",
    "plt.scatter(x, y, label=\"Sample points\", marker=\".\")\n",
    "plt.xlim(*interval)\n",
    "plt.xlabel(\"mass [GeV]\")\n",
    "plt.legend()\n",
    "plt.tight_layout()"
   ]
  },
  {
   "cell_type": "code",
   "execution_count": null,
   "id": "b437e2ba",
   "metadata": {},
   "outputs": [],
   "source": [
    "accepted = (y <= Cauchy(x, m_top, gamma_top/2))"
   ]
  },
  {
   "cell_type": "code",
   "execution_count": null,
   "id": "e23aab12",
   "metadata": {},
   "outputs": [],
   "source": [
    "x_accepted = x[accepted]\n",
    "y_accepted = y[accepted]"
   ]
  },
  {
   "cell_type": "code",
   "execution_count": null,
   "id": "ceac88dd",
   "metadata": {},
   "outputs": [],
   "source": [
    "x_rejected = x[np.invert(accepted)]\n",
    "y_rejected = y[np.invert(accepted)]"
   ]
  },
  {
   "cell_type": "code",
   "execution_count": null,
   "id": "09c4a6d1",
   "metadata": {},
   "outputs": [],
   "source": [
    "plt.plot(xfunc, gfunc, label=\"Gauss distribution\", lw=4)\n",
    "plt.plot(xfunc, yfunc, label=\"Cauchy distribution\", lw=4)\n",
    "plt.scatter(x_rejected, y_rejected, label=\"Rejected points\", marker=\".\")\n",
    "plt.scatter(x_accepted, y_accepted, label=\"Accepted points\", marker=\".\")\n",
    "plt.xlim(*interval)\n",
    "plt.xlabel(\"mass [GeV]\")\n",
    "plt.legend()\n",
    "plt.tight_layout()"
   ]
  },
  {
   "cell_type": "code",
   "execution_count": null,
   "id": "5050f339",
   "metadata": {},
   "outputs": [],
   "source": [
    "print(\"Acceptance rate: {}\".format(len(x_accepted) / (len(x))))"
   ]
  },
  {
   "cell_type": "markdown",
   "id": "80ceed95",
   "metadata": {},
   "source": [
    "Why is the acceptance rate still so low? And what about the point density? Is it constant across the shape of the envelope? If not, why not?"
   ]
  },
  {
   "cell_type": "markdown",
   "id": "25f35e39",
   "metadata": {},
   "source": [
    "\n",
    "## Trying to fill the points into a histogram"
   ]
  },
  {
   "cell_type": "markdown",
   "id": "d3058d9c",
   "metadata": {},
   "source": [
    "Let's try to fill the points into a histogram."
   ]
  },
  {
   "cell_type": "code",
   "execution_count": null,
   "id": "534bd256",
   "metadata": {},
   "outputs": [],
   "source": [
    "n_bins = 30"
   ]
  },
  {
   "cell_type": "code",
   "execution_count": null,
   "id": "6ef56497",
   "metadata": {},
   "outputs": [],
   "source": [
    "plt.plot(xfunc, yfunc, label=\"Cauchy distribution\", lw=4)\n",
    "plt.plot(xfunc, gfunc, label=\"Gauss distribution\", lw=4)\n",
    "plt.hist(x_accepted, label=\"Accepted points\", bins=n_bins, alpha=0.5, density=True)\n",
    "plt.xlim(*interval)\n",
    "plt.xlabel(\"mass [GeV]\")\n",
    "plt.legend()\n",
    "plt.tight_layout()"
   ]
  },
  {
   "cell_type": "markdown",
   "id": "0d5a18a0",
   "metadata": {},
   "source": [
    "Why is the shape not reflected correctly in the histogram? What did we forget? We need to remember that the point density in $x$ was generated according to a uniform distribution, but we chose the Gauss function is an envelope! So we need to apply additional event weights."
   ]
  },
  {
   "cell_type": "code",
   "execution_count": null,
   "id": "5671802c",
   "metadata": {},
   "outputs": [],
   "source": [
    "weights_accepted = 2 * Gauss(x_accepted, m_top, gamma_top)"
   ]
  },
  {
   "cell_type": "code",
   "execution_count": null,
   "id": "7ed700f6",
   "metadata": {},
   "outputs": [],
   "source": [
    "weights_accepted = weights_accepted * n_bins / n_samples"
   ]
  },
  {
   "cell_type": "code",
   "execution_count": null,
   "id": "5eb23b84",
   "metadata": {},
   "outputs": [],
   "source": [
    "plt.plot(xfunc, yfunc, label=\"Cauchy distribution\", lw=4)\n",
    "plt.plot(xfunc, gfunc, label=\"Gauss distribution\", lw=4)\n",
    "contents, bin_edges, _ = plt.hist(x_accepted, label=\"Accepted points\", weights=weights_accepted, bins=n_bins, alpha=0.5)\n",
    "plt.xlim(*interval)\n",
    "plt.xlabel(\"mass [GeV]\")\n",
    "plt.legend()\n",
    "plt.tight_layout()"
   ]
  },
  {
   "cell_type": "code",
   "execution_count": null,
   "id": "b0ce2689",
   "metadata": {},
   "outputs": [],
   "source": [
    "bin_width = (bin_edges[-1] - bin_edges[0]) / n_bins"
   ]
  },
  {
   "cell_type": "code",
   "execution_count": null,
   "id": "85cf8141",
   "metadata": {},
   "outputs": [],
   "source": [
    "np.sum(contents) * bin_width"
   ]
  },
  {
   "cell_type": "code",
   "execution_count": null,
   "id": "68e4b70f",
   "metadata": {},
   "outputs": [],
   "source": [
    "integrate.quad(lambda x: Cauchy(x, m_top, gamma_top/2), *interval)[0]"
   ]
  },
  {
   "cell_type": "markdown",
   "id": "96a15e72",
   "metadata": {},
   "source": [
    "## How can we avoid the problem of uneven point densities?"
   ]
  },
  {
   "cell_type": "markdown",
   "id": "c44e417c",
   "metadata": {},
   "source": [
    "The issue is that we sampled $x \\in [170, 176]$ uniformly without caring about the shape of the Gaussian envelope distribution. To achieve uniform point density, we need to consider the cumulative distribution function (CDF) of the Gaussian distribution. This leads us to the inversion method.\n",
    "\n",
    "Just for reference: the code below repeats the same exercise as above, but this time the $x$ values are sampled by drawing from a uniform distribution in $[0, 1]$ and then projecting these values on the inverse of the CDF of the Gaussian distribution. This gives us uniform point density."
   ]
  },
  {
   "cell_type": "code",
   "execution_count": null,
   "id": "9476bd7f",
   "metadata": {},
   "outputs": [],
   "source": [
    "n_samples = 2000"
   ]
  },
  {
   "cell_type": "code",
   "execution_count": null,
   "id": "dc75fe21",
   "metadata": {},
   "outputs": [],
   "source": [
    "# This is the \"percent-point function\" (quantile function) of the Gaussian distribution,\n",
    "# i.e. the inverse of its cumulative density function.\n",
    "x = stats.norm.ppf(gen.uniform(0, 1, n_samples), loc=m_top, scale=gamma_top)"
   ]
  },
  {
   "cell_type": "code",
   "execution_count": null,
   "id": "1e5446c6",
   "metadata": {},
   "outputs": [],
   "source": [
    "y = 2 * Gauss(x, m_top, gamma_top) * gen.uniform(0, 1, n_samples)  # Same as before!"
   ]
  },
  {
   "cell_type": "code",
   "execution_count": null,
   "id": "c953cd46",
   "metadata": {},
   "outputs": [],
   "source": [
    "plt.plot(xfunc, gfunc, label=\"Gauss distribution\", lw=4)\n",
    "plt.plot(xfunc, yfunc, label=\"Cauchy distribution\", lw=4)\n",
    "plt.scatter(x, y, label=\"Sample points\", marker=\".\")\n",
    "plt.xlim(*interval)\n",
    "plt.xlabel(\"mass [GeV]\")\n",
    "plt.legend()\n",
    "plt.tight_layout()"
   ]
  },
  {
   "cell_type": "code",
   "execution_count": null,
   "id": "b3043a29",
   "metadata": {},
   "outputs": [],
   "source": [
    "accepted = (y <= Cauchy(x, m_top, gamma_top/2))"
   ]
  },
  {
   "cell_type": "code",
   "execution_count": null,
   "id": "2e6ef029",
   "metadata": {},
   "outputs": [],
   "source": [
    "x_accepted = x[accepted]\n",
    "y_accepted = y[accepted]"
   ]
  },
  {
   "cell_type": "code",
   "execution_count": null,
   "id": "feba117b",
   "metadata": {},
   "outputs": [],
   "source": [
    "x_rejected = x[np.invert(accepted)]\n",
    "y_rejected = y[np.invert(accepted)]"
   ]
  },
  {
   "cell_type": "code",
   "execution_count": null,
   "id": "6d1f4f03",
   "metadata": {},
   "outputs": [],
   "source": [
    "plt.plot(xfunc, gfunc, label=\"Gauss distribution\", lw=4)\n",
    "plt.plot(xfunc, yfunc, label=\"Cauchy distribution\", lw=4)\n",
    "plt.scatter(x_rejected, y_rejected, label=\"Rejected points\", marker=\".\")\n",
    "plt.scatter(x_accepted, y_accepted, label=\"Accepted points\", marker=\".\")\n",
    "plt.xlim(*interval)\n",
    "plt.xlabel(\"mass [GeV]\")\n",
    "plt.legend()\n",
    "plt.tight_layout()"
   ]
  },
  {
   "cell_type": "code",
   "execution_count": null,
   "id": "8464ae43",
   "metadata": {},
   "outputs": [],
   "source": [
    "print(\"Acceptance rate: {}\".format(len(x_accepted) / (len(x))))"
   ]
  },
  {
   "cell_type": "markdown",
   "id": "caf09a68",
   "metadata": {},
   "source": [
    "As we can see, this leads also to a higher acceptance rate. Let's fill the histogram again. Since we have achieved uniform point density already, we don't need to apply any weights."
   ]
  },
  {
   "cell_type": "code",
   "execution_count": null,
   "id": "f251dd23",
   "metadata": {},
   "outputs": [],
   "source": [
    "n_bins = 30"
   ]
  },
  {
   "cell_type": "code",
   "execution_count": null,
   "id": "63d30748",
   "metadata": {},
   "outputs": [],
   "source": [
    "plt.plot(xfunc, yfunc, label=\"Cauchy distribution\", lw=4)\n",
    "plt.plot(xfunc, gfunc, label=\"Gauss distribution\", lw=4)\n",
    "plt.hist(x_accepted, label=\"Accepted points\", bins=n_bins, range=interval, alpha=0.5, density=True)\n",
    "plt.xlim(*interval)\n",
    "plt.xlabel(\"mass [GeV]\")\n",
    "plt.legend()\n",
    "plt.tight_layout()"
   ]
  },
  {
   "cell_type": "code",
   "execution_count": null,
   "id": "fb7e5874",
   "metadata": {},
   "outputs": [],
   "source": [
    "bin_width = (bin_edges[-1] - bin_edges[0]) / n_bins"
   ]
  },
  {
   "cell_type": "code",
   "execution_count": null,
   "id": "391ef036",
   "metadata": {},
   "outputs": [],
   "source": [
    "np.sum(contents) * bin_width"
   ]
  },
  {
   "cell_type": "code",
   "execution_count": null,
   "id": "599fb331",
   "metadata": {},
   "outputs": [],
   "source": [
    "integrate.quad(lambda x: Cauchy(x, m_top, gamma_top/2), *interval)[0]"
   ]
  },
  {
   "cell_type": "code",
   "execution_count": null,
   "id": "91313522",
   "metadata": {},
   "outputs": [],
   "source": []
  }
 ],
 "metadata": {
  "kernelspec": {
   "display_name": "Python 3 (ipykernel)",
   "language": "python",
   "name": "python3"
  },
  "language_info": {
   "codemirror_mode": {
    "name": "ipython",
    "version": 3
   },
   "file_extension": ".py",
   "mimetype": "text/x-python",
   "name": "python",
   "nbconvert_exporter": "python",
   "pygments_lexer": "ipython3",
   "version": "3.8.11"
  }
 },
 "nbformat": 4,
 "nbformat_minor": 5
}
