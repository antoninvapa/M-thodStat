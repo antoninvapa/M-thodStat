{
 "cells": [
  {
   "cell_type": "markdown",
   "id": "517807a4",
   "metadata": {},
   "source": [
    "# Solutions to sheet 5"
   ]
  },
  {
   "cell_type": "markdown",
   "id": "3eeb3a9d",
   "metadata": {},
   "source": [
    "Import the necessary libraries: `numpy`, `matplotlib`. We can use the `as` keyword to define shortcuts to access the libraries (example: `import numpy as np` means we can access numpy functions with the `np.` syntax)."
   ]
  },
  {
   "cell_type": "code",
   "execution_count": null,
   "id": "6e41f856",
   "metadata": {},
   "outputs": [],
   "source": [
    "import numpy as np\n",
    "import matplotlib as mpl\n",
    "import matplotlib.pyplot as plt\n",
    "import scipy.stats as stats"
   ]
  },
  {
   "cell_type": "code",
   "execution_count": null,
   "id": "a9f2bd18",
   "metadata": {},
   "outputs": [],
   "source": [
    "## - - - - - - - - - - - - - - - - - - - - - - - - - - -\n",
    "##      plotting properties\n",
    "## - - - - - - - - - - - - - - - - - - - - - - - - - - -\n",
    "\n",
    "mpl.rcParams.update({\n",
    "    \"axes.autolimit_mode\":\"round_numbers\",\n",
    "    \"axes.axisbelow\":\"False\",\n",
    "    \"axes.edgecolor\":\"000000\",\n",
    "    \"axes.facecolor\":\"FFFFFF\",\n",
    "    \"axes.formatter.limits\":\"-2, 4\",\n",
    "    \"axes.formatter.use_mathtext\":\"True\",\n",
    "    \"axes.grid\":\"False\",\n",
    "    \"axes.labelcolor\":\"000000\",\n",
    "    \"axes.labelsize\":\"12\",\n",
    "    \"axes.linewidth\":\"1\",\n",
    "    \"axes.titlesize\":\"12\",\n",
    "    \"axes.xmargin\":\"0.\",\n",
    "    \"axes.ymargin\":\"0.\",\n",
    "    \"errorbar.capsize\":\"1\",\n",
    "    \"figure.autolayout\":\"True\",\n",
    "    \"figure.dpi\":\"96\",\n",
    "    \"figure.edgecolor\":\"0.50\",\n",
    "    \"figure.facecolor\":\"FFFFFF\",\n",
    "    \"figure.figsize\":\"6, 4.5\",\n",
    "    \"font.family\":\"monospace\",\n",
    "    \"font.size\":\"12\",\n",
    "    \"legend.fancybox\":\"True\",\n",
    "    \"legend.framealpha\":\"0.25\",\n",
    "    \"legend.frameon\":\"True\",\n",
    "    \"lines.markersize\":\"6\",\n",
    "    \"savefig.dpi\":\"150\",\n",
    "    \"savefig.facecolor\":\"FFFFFF00\",\n",
    "    \"xtick.bottom\":\"True\",\n",
    "    \"xtick.color\":\"000000\",\n",
    "    \"xtick.direction\":\"in\",\n",
    "    \"xtick.major.size\":\"10\",\n",
    "    \"xtick.minor.size\":\"5\",\n",
    "    \"xtick.top\":\"True\",\n",
    "    \"ytick.color\":\"000000\",\n",
    "    \"ytick.direction\":\"in\",\n",
    "    \"ytick.left\":\"True\",\n",
    "    \"ytick.major.size\":\"10\",\n",
    "    \"ytick.minor.size\":\"5\",\n",
    "    \"ytick.right\":\"True\",\n",
    "})"
   ]
  },
  {
   "cell_type": "code",
   "execution_count": null,
   "id": "d40a6de3",
   "metadata": {},
   "outputs": [],
   "source": [
    "mu = 2\n",
    "sigma = 0.5"
   ]
  },
  {
   "cell_type": "markdown",
   "id": "a708ae5b",
   "metadata": {},
   "source": [
    "## Implement a Gaussian distribution"
   ]
  },
  {
   "cell_type": "markdown",
   "id": "01e24830",
   "metadata": {},
   "source": [
    "First implement a Gaussian distribution and show that we can plot it."
   ]
  },
  {
   "cell_type": "code",
   "execution_count": null,
   "id": "e5ae824d",
   "metadata": {},
   "source": [
    "def Gauss(x, mu=0, sigma=1):\n",
    "    \"\"\"Implementation of a Gauss distribution.\n",
    "    \n",
    "    Args:\n",
    "      x: the point at which to evaluate\n",
    "      mu: the central value of the distribution\n",
    "      sigma: the standard deviation of the distribution\n",
    "    \n",
    "    Returns: function evaluated at point x\n",
    "    \n",
    "    \"\"\"\n",
    "    pref = 1 / sigma / np.sqrt(2 * np.pi)\n",
    "    return pref * np.exp(- np.power(x - mu, 2) / 2 / sigma / sigma)"
   ]
  },
  {
   "cell_type": "code",
   "execution_count": null,
   "id": "465670f0",
   "metadata": {},
   "outputs": [],
   "source": [
    "n_points = 200"
   ]
  },
  {
   "cell_type": "code",
   "execution_count": null,
   "id": "ba24fec5",
   "metadata": {},
   "outputs": [],
   "source": [
    "interval = (0, 4)"
   ]
  },
  {
   "cell_type": "code",
   "execution_count": null,
   "id": "b41372a1",
   "metadata": {},
   "outputs": [],
   "source": [
    "xfunc = np.linspace(*interval, n_points)\n",
    "yfunc = Gauss(xfunc, mu, sigma)"
   ]
  },
  {
   "cell_type": "code",
   "execution_count": null,
   "id": "c3c3ea37",
   "metadata": {},
   "outputs": [],
   "source": [
    "plt.plot(xfunc, yfunc, label=f\"Gauss($\\mu$={mu}, $\\sigma$={sigma})\", lw=4)\n",
    "plt.xlim(*interval)\n",
    "plt.ylim((0, 1.0))\n",
    "plt.legend()\n",
    "\n",
    "plt.show()"
   ]
  },
  {
   "cell_type": "markdown",
   "id": "8f75b72c",
   "metadata": {},
   "source": [
    "## Sample from a Gaussian distribution"
   ]
  },
  {
   "cell_type": "markdown",
   "id": "4a3116d8",
   "metadata": {},
   "source": [
    "Now perform sampling from a Gaussian distribution, based on the inversion method."
   ]
  },
  {
   "cell_type": "code",
   "execution_count": null,
   "id": "e10abf64",
   "metadata": {},
   "outputs": [],
   "source": [
    "n_samples = 6"
   ]
  },
  {
   "cell_type": "code",
   "execution_count": null,
   "id": "266107b0",
   "metadata": {},
   "outputs": [],
   "source": [
    "gen = np.random.default_rng()"
   ]
  },
  {
   "cell_type": "code",
   "execution_count": null,
   "id": "8879135d",
   "metadata": {},
   "outputs": [],
   "source": [
    "def sample_from_Gaussian(n_samples, mu=0, sigma=1):\n",
    "    \"\"\"Function to sample from a Gaussian distribution.\n",
    "    \n",
    "    This function returns a set of n_samples data points, sampled\n",
    "    from a Gaussian distribution with central value mu and standard\n",
    "    deviation sigma.\n",
    "    \n",
    "    Args:\n",
    "      n_samples: The number of samples to draw.\n",
    "      mu: The central value of the Gaussian distribution.\n",
    "      sigma: The standard deviation of the Gaussian distribution.\n",
    "      \n",
    "    Returns: Tuple of two lists with x and y values\n",
    "    \n",
    "    \"\"\"\n",
    "    x = stats.norm.ppf(gen.uniform(0, 1, n_samples), loc=mu, scale=sigma)\n",
    "    y = Gauss(x, mu, sigma) * gen.uniform(0, 1, n_samples)\n",
    "    return x, y"
   ]
  },
  {
   "cell_type": "code",
   "execution_count": null,
   "id": "e5951435",
   "metadata": {},
   "outputs": [],
   "source": [
    "x, y = sample_from_Gaussian(n_samples, mu, sigma)"
   ]
  },
  {
   "cell_type": "code",
   "execution_count": null,
   "id": "a763b7fb",
   "metadata": {},
   "outputs": [],
   "source": [
    "plt.plot(xfunc, yfunc, label=f\"Gauss($\\mu$={mu}, $\\sigma$={sigma})\", lw=4)\n",
    "plt.scatter(x, y, marker=\".\", label=\"Sampled data points\")\n",
    "plt.xlim(*interval)\n",
    "plt.ylim((0, 1))\n",
    "plt.legend()\n",
    "\n",
    "plt.show()"
   ]
  },
  {
   "cell_type": "markdown",
   "id": "78c982d2",
   "metadata": {},
   "source": [
    "## chi2 calculation"
   ]
  },
  {
   "cell_type": "code",
   "execution_count": null,
   "id": "096d8940",
   "metadata": {},
   "outputs": [],
   "source": [
    "def calculate_chi2(x, mu, sigma):\n",
    "    \"\"\"Calculate the chi2 parameter from a list of data points.\n",
    "    \n",
    "    Args:\n",
    "      x: the list of data points\n",
    "      mu: the expectation value of the distribution\n",
    "      sigma: the standard deviation of the distribution\n",
    "    \n",
    "    Returns:\n",
    "      Overall chi2 parameter value of the data points\n",
    "    \"\"\"\n",
    "    difference = (x - mu) / sigma\n",
    "    return np.sum(np.power(difference, 2))"
   ]
  },
  {
   "cell_type": "code",
   "execution_count": null,
   "id": "1edc2d1d",
   "metadata": {},
   "outputs": [],
   "source": [
    "calculate_chi2(x, mu, sigma)"
   ]
  },
  {
   "cell_type": "markdown",
   "id": "6fb885f6",
   "metadata": {},
   "source": [
    "## Now repeat the experiment multiple times"
   ]
  },
  {
   "cell_type": "markdown",
   "id": "c096e038",
   "metadata": {},
   "source": [
    "We now repeat the same experiment 5000 times and collect all chi2 values of the experiments to fill them into a histogram."
   ]
  },
  {
   "cell_type": "code",
   "execution_count": null,
   "id": "2c1a96c6",
   "metadata": {},
   "outputs": [],
   "source": [
    "n_experiments = 5000"
   ]
  },
  {
   "cell_type": "code",
   "execution_count": null,
   "id": "9e3bc087",
   "metadata": {},
   "outputs": [],
   "source": [
    "interval = (0, 20)"
   ]
  },
  {
   "cell_type": "code",
   "execution_count": null,
   "id": "4d73c588",
   "metadata": {},
   "outputs": [],
   "source": [
    "chi2_experiments = []\n",
    "for i in range(n_experiments):\n",
    "    x, _ = sample_from_Gaussian(n_samples, mu, sigma)\n",
    "    chi2_experiments.append(calculate_chi2(x, mu, sigma))"
   ]
  },
  {
   "cell_type": "code",
   "execution_count": null,
   "id": "e089e9f2",
   "metadata": {},
   "outputs": [],
   "source": [
    "chi2_x = np.linspace(*interval, n_points)"
   ]
  },
  {
   "cell_type": "code",
   "execution_count": null,
   "id": "f45c14eb",
   "metadata": {},
   "outputs": [],
   "source": [
    "chi2_y = stats.chi2.pdf(chi2_x, n_samples)"
   ]
  },
  {
   "cell_type": "code",
   "execution_count": null,
   "id": "1969c748",
   "metadata": {},
   "outputs": [],
   "source": [
    "plt.hist(chi2_experiments, density=True, label=\"Sampled chi2 values\", bins=20, range=interval, alpha=0.5)\n",
    "plt.plot(chi2_x, chi2_y, label=f\"chi2 distribution (k={n_samples})\", lw=4)\n",
    "plt.legend()\n",
    "\n",
    "plt.show()"
   ]
  },
  {
   "cell_type": "markdown",
   "id": "e3de0aa5",
   "metadata": {},
   "source": [
    "## Student's t-distribution"
   ]
  },
  {
   "cell_type": "code",
   "execution_count": null,
   "id": "385d87d2",
   "metadata": {},
   "outputs": [],
   "source": [
    "def calculate_t(x, mu):\n",
    "    \"\"\"Calculate the t variable for a sample x.\n",
    "    \n",
    "    Args:\n",
    "      x: a list of sampled values\n",
    "      mu: the (true) population mean\n",
    "    \n",
    "    Returns:\n",
    "      Overall t value of the sample\n",
    "    \"\"\"\n",
    "    bessel_std = np.std(x, ddof=1)\n",
    "    return (np.mean(x) - mu) / bessel_std * np.sqrt(len(x))"
   ]
  },
  {
   "cell_type": "code",
   "execution_count": null,
   "id": "80b2204f",
   "metadata": {},
   "outputs": [],
   "source": [
    "calculate_t(x, mu)"
   ]
  },
  {
   "cell_type": "code",
   "execution_count": null,
   "id": "26fd08d2",
   "metadata": {},
   "outputs": [],
   "source": [
    "t_values = []\n",
    "for i in range(n_experiments):\n",
    "    x = stats.norm.ppf(gen.uniform(0, 1, n_samples), loc=mu, scale=sigma)\n",
    "    t_values.append(calculate_t(x, mu))"
   ]
  },
  {
   "cell_type": "code",
   "execution_count": null,
   "id": "014583c0",
   "metadata": {},
   "outputs": [],
   "source": [
    "interval = (-5, 5)"
   ]
  },
  {
   "cell_type": "code",
   "execution_count": null,
   "id": "fc8ea71a",
   "metadata": {},
   "outputs": [],
   "source": [
    "t_x = np.linspace(*interval, 200)"
   ]
  },
  {
   "cell_type": "code",
   "execution_count": null,
   "id": "7f0f747b",
   "metadata": {},
   "outputs": [],
   "source": [
    "t_y = stats.t.pdf(t_x, n_samples - 1)"
   ]
  },
  {
   "cell_type": "code",
   "execution_count": null,
   "id": "73e19b82",
   "metadata": {},
   "outputs": [],
   "source": [
    "plt.hist(t_values, density=True, label=\"Sampled t values\", bins=20, range=interval, alpha=0.5)\n",
    "plt.plot(t_x, t_y, label=f\"t distribution (k={n_samples - 1})\", lw=4)\n",
    "plt.legend()\n",
    "\n",
    "plt.show()"
   ]
  },
  {
   "cell_type": "code",
   "execution_count": null,
   "id": "ad92c7e9",
   "metadata": {},
   "outputs": [],
   "source": []
  }
 ],
 "metadata": {
  "kernelspec": {
   "display_name": "Python 3 (ipykernel)",
   "language": "python",
   "name": "python3"
  },
  "language_info": {
   "codemirror_mode": {
    "name": "ipython",
    "version": 3
   },
   "file_extension": ".py",
   "mimetype": "text/x-python",
   "name": "python",
   "nbconvert_exporter": "python",
   "pygments_lexer": "ipython3",
   "version": "3.8.11"
  }
 },
 "nbformat": 4,
 "nbformat_minor": 5
}
