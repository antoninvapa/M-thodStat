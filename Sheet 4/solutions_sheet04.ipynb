{
 "cells": [
  {
   "cell_type": "code",
   "execution_count": 1,
   "metadata": {},
   "outputs": [],
   "source": [
    "## - - - - - - - - - - - - - - - - - - - - - - - - - - -\n",
    "##      import libraries\n",
    "## - - - - - - - - - - - - - - - - - - - - - - - - - - -\n",
    "\n",
    "from __future__ import division\n",
    "import numpy as np\n",
    "import matplotlib.pyplot as plt\n",
    "import matplotlib as mpl\n",
    "from scipy.interpolate import griddata, UnivariateSpline\n",
    "from matplotlib.pyplot import * # plotting library\n",
    "import math\n",
    "import pylab\n",
    "from matplotlib import ticker\n",
    "from mpmath import mp\n",
    "import mpmath\n",
    "from numpy import random"
   ]
  },
  {
   "cell_type": "code",
   "execution_count": 2,
   "metadata": {},
   "outputs": [],
   "source": [
    "## - - - - - - - - - - - - - - - - - - - - - - - - - - -\n",
    "##      plotting properties\n",
    "## - - - - - - - - - - - - - - - - - - - - - - - - - - -\n",
    "\n",
    "# plt.rcParams.update({\n",
    "# \t'text.usetex': True,\n",
    "# \t'font.family':'serif',\n",
    "# \t'mathtext.fontset' : 'cm',\n",
    "# \t'mathtext.rm': 'serif',\n",
    "# \t'font.weight': 'normal',\n",
    "# \t'axes.labelweight': 'normal',\n",
    "# \t'axes.linewidth': 1.5,\n",
    "# \t'xtick.major.width': 1.5,\n",
    "# \t'xtick.major.size': 10.0,\n",
    "# \t'xtick.minor.size': 5.0,\n",
    "# \t'ytick.major.width': 1.5,\n",
    "# \t'ytick.major.size': 10.0,\n",
    "# \t'ytick.minor.size': 5.0,\n",
    "# \t'font.size': 30})\n",
    "# plt.rcParams.update({'font.size': 20})"
   ]
  },
  {
   "cell_type": "markdown",
   "metadata": {},
   "source": [
    "## Task 1"
   ]
  },
  {
   "cell_type": "code",
   "execution_count": 3,
   "metadata": {},
   "outputs": [],
   "source": [
    "## basic parameters\n",
    "\n",
    "m=40*1.66*1e-27\n",
    "kb=1.38*1e-23\n",
    "T=300\n"
   ]
  },
  {
   "cell_type": "code",
   "execution_count": 4,
   "metadata": {},
   "outputs": [
    {
     "name": "stdout",
     "output_type": "stream",
     "text": [
      "1.1689406981601131e+20\n"
     ]
    }
   ],
   "source": [
    "## Answer 1-2\n",
    "\n",
    "fmax=(2.0/math.pi)**0.5*(1.0/(kb*T))*(math.e**(-0.5))\n",
    "print(fmax)"
   ]
  },
  {
   "cell_type": "code",
   "execution_count": 5,
   "metadata": {},
   "outputs": [],
   "source": [
    "# the formula of the f(E_k)\n",
    "def fek(ekinput,Tinput):\n",
    "    ## ekinput and Tinput are the given kinetic energy and temperature\n",
    "    ## Here we return the f(E_k) value at a given E_k\n",
    "    \n",
    "    return 2*(1.0/(kb*Tinput))**1.5*(ekinput/math.pi)**0.5*(math.e**(-ekinput/(kb*Tinput)))"
   ]
  },
  {
   "cell_type": "code",
   "execution_count": 6,
   "metadata": {},
   "outputs": [],
   "source": [
    "# Generating E_k with accept-reject method\n",
    "\n",
    "def ekgenerator(Tinput):\n",
    "    ekcut=10*kb*Tinput\n",
    "    rx=np.random.uniform(0,ekcut)\n",
    "    # The maximum for f(E_k) which we use as the height for the uniform envelope\n",
    "    fmax=(2.0/math.pi)**0.5*(1.0/(kb*Tinput))*(math.e**(-0.5)) \n",
    "    ry=np.random.uniform(0,fmax)\n",
    "    output=-1.0\n",
    "    judge=False\n",
    "    if ry<fek(rx,Tinput):\n",
    "        output=rx\n",
    "        judge=True\n",
    "        \n",
    "    return output,judge    "
   ]
  },
  {
   "cell_type": "code",
   "execution_count": 7,
   "metadata": {},
   "outputs": [],
   "source": [
    "ntest=10000\n",
    "ek=list(range(ntest))\n",
    "\n",
    "## Generating E_k\n",
    "i=0\n",
    "while i<ntest:\n",
    "    ektry,ekjudge=ekgenerator(T)\n",
    "    if ekjudge==True:\n",
    "        ek[i]=ektry\n",
    "        i+=1"
   ]
  },
  {
   "cell_type": "code",
   "execution_count": 8,
   "metadata": {},
   "outputs": [],
   "source": [
    "## draw the fitting functions\n",
    "\n",
    "xfit=np.arange(0,5e-20,1e-21)\n",
    "yfit=fek(xfit,T)"
   ]
  },
  {
   "cell_type": "code",
   "execution_count": 9,
   "metadata": {},
   "outputs": [
    {
     "data": {
      "image/png": "[encoded data removed]",
      "text/plain": [
       "<Figure size 432x288 with 1 Axes>"
      ]
     },
     "metadata": {
      "needs_background": "light"
     },
     "output_type": "display_data"
    }
   ],
   "source": [
    "plt.hist(ek, 50, density=True, facecolor='b', alpha=0.75)\n",
    "plot(xfit,yfit,'--',lw=3)\n",
    "\n",
    "plt.xlabel(r'$E_k$')\n",
    "plt.ylabel(r'$f(E_k)$')\n",
    "plt.title(r'$Histogram\\ of\\ f(E_k)$')\n",
    "#plt.text(60, .025)\n",
    "#plt.xlim(40, 160)\n",
    "#plt.ylim(0, 0.03)\n",
    "plt.tick_params(direction='in')\n",
    "plt.grid(True)\n",
    "plt.show()  "
   ]
  },
  {
   "cell_type": "code",
   "execution_count": null,
   "metadata": {},
   "outputs": [],
   "source": []
  },
  {
   "cell_type": "code",
   "execution_count": 10,
   "metadata": {},
   "outputs": [
    {
     "name": "stdout",
     "output_type": "stream",
     "text": [
      "1.4879572739776656\n"
     ]
    }
   ],
   "source": [
    "## Answer 1-3\n",
    "\n",
    "ekavg=sum(ek)/len(ek)\n",
    "alpha=ekavg/(kb*T)\n",
    "\n",
    "print(alpha)\n",
    "\n"
   ]
  },
  {
   "cell_type": "code",
   "execution_count": 11,
   "metadata": {},
   "outputs": [
    {
     "name": "stdout",
     "output_type": "stream",
     "text": [
      "1.433184819108295\n"
     ]
    }
   ],
   "source": [
    "## Answer 1-4\n",
    "\n",
    "var=np.var(ek)\n",
    "alpha2=var/((kb*T)**2)\n",
    "\n",
    "print(alpha2)"
   ]
  },
  {
   "cell_type": "code",
   "execution_count": 12,
   "metadata": {},
   "outputs": [],
   "source": [
    "## Answer 1-5\n",
    "\n",
    "def ekgenerator2(Tinput):\n",
    "    ## Here we generate the random number mu with the inverse function methods\n",
    "    lam=1.0/(kb*Tinput)\n",
    "    r=np.random.uniform(0,1)\n",
    "    mu=-(1.0/lam)*math.log(1-r)\n",
    "    return mu"
   ]
  },
  {
   "cell_type": "code",
   "execution_count": 13,
   "metadata": {},
   "outputs": [
    {
     "name": "stdout",
     "output_type": "stream",
     "text": [
      "1.4769870011961552\n"
     ]
    }
   ],
   "source": [
    "#Compute the expectation value with the Monte Carlo integral from the inverse function methods\n",
    "\n",
    "ntest=10000\n",
    "\n",
    "eavg=0\n",
    "\n",
    "\n",
    "for i in range(0,ntest):\n",
    "    ek=ekgenerator2(T)\n",
    "    eavg+=2*((1.0/(math.pi*kb*T))**0.5)*(ek**1.5)\n",
    "    \n",
    "eavg/=ntest\n",
    "\n",
    "print(eavg/(kb*T))"
   ]
  },
  {
   "cell_type": "code",
   "execution_count": 14,
   "metadata": {},
   "outputs": [],
   "source": [
    "## Answer 1-6\n",
    "\n",
    "def ekgenerator3(Ninput,Tinput):\n",
    "    ## this function generates Ninput number of E_k which follows f(E_k) at Tinput temperature\n",
    "    ii=0\n",
    "    ekoutput=list(range(Ninput))\n",
    "    \n",
    "    while ii<Ninput:\n",
    "        ektry,ekjudge=ekgenerator(Tinput)\n",
    "        if ekjudge==True:\n",
    "            ekoutput[ii]=ektry\n",
    "            ii+=1\n",
    "    return ekoutput\n",
    "\n"
   ]
  },
  {
   "cell_type": "code",
   "execution_count": 15,
   "metadata": {},
   "outputs": [
    {
     "name": "stdout",
     "output_type": "stream",
     "text": [
      "0.955578859292062\n"
     ]
    }
   ],
   "source": [
    "ntest=10000\n",
    "T=300\n",
    "\n",
    "ek=ekgenerator3(ntest,T)\n",
    "\n",
    "v=list(range(ntest))\n",
    "\n",
    "for i in range(0,ntest):\n",
    "    v[i]=(2*ek[i]/m)**0.5\n",
    "    \n",
    "sigmav=np.var(v)**0.5\n",
    "sigmav_est=((kb*T)/(2*m))**0.5\n",
    "\n",
    "print (sigmav/sigmav_est)"
   ]
  },
  {
   "cell_type": "code",
   "execution_count": null,
   "metadata": {},
   "outputs": [],
   "source": []
  },
  {
   "cell_type": "markdown",
   "metadata": {},
   "source": [
    "## Task 2"
   ]
  },
  {
   "cell_type": "code",
   "execution_count": 16,
   "metadata": {},
   "outputs": [
    {
     "name": "stdout",
     "output_type": "stream",
     "text": [
      "1.2419999999999998e-21\n"
     ]
    }
   ],
   "source": [
    "## Solution 1\n",
    "\n",
    "## basic parameters\n",
    "\n",
    "m=40*1.66*1e-27\n",
    "kb=1.38*1e-23\n",
    "hbar=6.62e-34\n",
    "T=3.0\n",
    "mu=30*kb*T\n",
    "\n",
    "print (mu)\n",
    "\n"
   ]
  },
  {
   "cell_type": "code",
   "execution_count": 17,
   "metadata": {},
   "outputs": [],
   "source": [
    "# the formula of the f(e),\n",
    "def fe(einput,Tinput,muinput):\n",
    "    A=(1.0/(kb*T))*(einput-muinput)\n",
    "    B=3.5e31\n",
    "    return B*einput**0.5/(math.e**A+1.0)"
   ]
  },
  {
   "cell_type": "code",
   "execution_count": 18,
   "metadata": {},
   "outputs": [],
   "source": [
    "# Generating E_k with accept-reject method\n",
    "\n",
    "def egenerator(Ninput,Tinput,muinput):\n",
    "    ekcut=60*kb*Tinput\n",
    "    fmax=1.2e21 # The maximum for f(E_k) which we use as the height for the uniform envelope    \n",
    "    eoutput=list(range(Ninput))\n",
    "    ii=0\n",
    "    while ii<Ninput:\n",
    "        rx=np.random.uniform(0,ekcut)\n",
    "        ry=np.random.uniform(0,fmax)\n",
    "        if ry<fe(rx,Tinput,muinput):\n",
    "            eoutput[ii]=rx\n",
    "            ii+=1\n",
    "            \n",
    "    return eoutput\n",
    "\n",
    "    "
   ]
  },
  {
   "cell_type": "code",
   "execution_count": 19,
   "metadata": {},
   "outputs": [],
   "source": [
    "ntest=10000\n",
    "e=egenerator(ntest,T,mu)"
   ]
  },
  {
   "cell_type": "code",
   "execution_count": 20,
   "metadata": {},
   "outputs": [],
   "source": [
    "## draw the fitting functions\n",
    "\n",
    "xfit=np.arange(0,60*kb*T,1e-23)\n",
    "yfit=fe(xfit,T,mu)\n",
    "\n"
   ]
  },
  {
   "cell_type": "code",
   "execution_count": 21,
   "metadata": {},
   "outputs": [
    {
     "data": {
      "image/png": "[encoded data removed]",
      "text/plain": [
       "<Figure size 432x288 with 1 Axes>"
      ]
     },
     "metadata": {
      "needs_background": "light"
     },
     "output_type": "display_data"
    }
   ],
   "source": [
    "plt.hist(e, 50, density=True, facecolor='b', alpha=0.75)\n",
    "plot(xfit,yfit,'k--',lw=3)\n",
    "\n",
    "plt.xlabel(r'$E$')\n",
    "plt.ylabel(r'$f(E)$')\n",
    "#plt.title(r'$Histogram\\ of\\ f(E_k)$')\n",
    "#plt.text(60, .025)\n",
    "#plt.xlim(40, 160)\n",
    "#plt.ylim(0, 0.03)\n",
    "plt.tick_params(direction='in')\n",
    "plt.grid(True)\n",
    "plt.show()\n",
    "    "
   ]
  },
  {
   "cell_type": "code",
   "execution_count": 22,
   "metadata": {},
   "outputs": [
    {
     "name": "stdout",
     "output_type": "stream",
     "text": [
      "0.6047486341805915\n",
      "18.142459025417747\n"
     ]
    }
   ],
   "source": [
    "## Solution 2\n",
    "\n",
    "eavg=sum(e)/len(e)\n",
    "C=mu\n",
    "alpha=eavg/C\n",
    "\n",
    "print (alpha)\n",
    "print (eavg/(kb*T))"
   ]
  },
  {
   "cell_type": "code",
   "execution_count": null,
   "metadata": {},
   "outputs": [],
   "source": []
  },
  {
   "cell_type": "code",
   "execution_count": null,
   "metadata": {},
   "outputs": [],
   "source": []
  }
 ],
 "metadata": {
  "kernelspec": {
   "display_name": "Python 3.8.3",
   "language": "python",
   "name": "python3"
  },
  "language_info": {
   "codemirror_mode": {
    "name": "ipython",
    "version": 3
   },
   "file_extension": ".py",
   "mimetype": "text/x-python",
   "name": "python",
   "nbconvert_exporter": "python",
   "pygments_lexer": "ipython3",
   "version": "3.8.3"
  },
  "vscode": {
   "interpreter": {
    "hash": "40d3a090f54c6569ab1632332b64b2c03c39dcf918b08424e98f38b5ae0af88f"
   }
  }
 },
 "nbformat": 4,
 "nbformat_minor": 2
}
