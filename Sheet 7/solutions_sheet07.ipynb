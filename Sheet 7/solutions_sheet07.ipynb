{
 "cells": [
  {
   "cell_type": "markdown",
   "id": "067884f0",
   "metadata": {},
   "source": [
    "# Solutions to sheet 7"
   ]
  },
  {
   "cell_type": "markdown",
   "id": "ceb39cd2",
   "metadata": {},
   "source": [
    "Import the necessary libraries: `numpy`, `matplotlib`. We can use the `as` keyword to define shortcuts to access the libraries (example: `import numpy as np` means we can access numpy functions with the `np.` syntax)."
   ]
  },
  {
   "cell_type": "code",
   "execution_count": null,
   "id": "cc4588e8",
   "metadata": {},
   "outputs": [],
   "source": [
    "import numpy as np\n",
    "import matplotlib as mpl\n",
    "import matplotlib.pyplot as plt\n",
    "import scipy.stats as stats\n",
    "import scipy.optimize as opt"
   ]
  },
  {
   "cell_type": "code",
   "execution_count": null,
   "id": "6bb0638b",
   "metadata": {},
   "outputs": [],
   "source": [
    "## - - - - - - - - - - - - - - - - - - - - - - - - - - -\n",
    "##      plotting properties\n",
    "## - - - - - - - - - - - - - - - - - - - - - - - - - - -\n",
    "\n",
    "mpl.rcParams.update({\n",
    "    \"axes.autolimit_mode\":\"round_numbers\",\n",
    "    \"axes.axisbelow\":\"False\",\n",
    "    \"axes.edgecolor\":\"000000\",\n",
    "    \"axes.facecolor\":\"FFFFFF\",\n",
    "    \"axes.formatter.limits\":\"-2, 4\",\n",
    "    \"axes.formatter.use_mathtext\":\"True\",\n",
    "    \"axes.grid\":\"False\",\n",
    "    \"axes.labelcolor\":\"000000\",\n",
    "    \"axes.labelsize\":\"12\",\n",
    "    \"axes.linewidth\":\"1\",\n",
    "    \"axes.titlesize\":\"12\",\n",
    "    \"axes.xmargin\":\"0.\",\n",
    "    \"axes.ymargin\":\"0.\",\n",
    "    \"errorbar.capsize\":\"1\",\n",
    "    \"figure.autolayout\":\"True\",\n",
    "    \"figure.dpi\":\"96\",\n",
    "    \"figure.edgecolor\":\"0.50\",\n",
    "    \"figure.facecolor\":\"FFFFFF\",\n",
    "    \"figure.figsize\":\"6, 4.5\",\n",
    "    \"font.family\":\"monospace\",\n",
    "    \"font.size\":\"12\",\n",
    "    \"legend.fancybox\":\"True\",\n",
    "    \"legend.framealpha\":\"0.25\",\n",
    "    \"legend.frameon\":\"True\",\n",
    "    \"lines.markersize\":\"6\",\n",
    "    \"savefig.dpi\":\"150\",\n",
    "    \"savefig.facecolor\":\"FFFFFF00\",\n",
    "    \"xtick.bottom\":\"True\",\n",
    "    \"xtick.color\":\"000000\",\n",
    "    \"xtick.direction\":\"in\",\n",
    "    \"xtick.major.size\":\"10\",\n",
    "    \"xtick.minor.size\":\"5\",\n",
    "    \"xtick.top\":\"True\",\n",
    "    \"ytick.color\":\"000000\",\n",
    "    \"ytick.direction\":\"in\",\n",
    "    \"ytick.left\":\"True\",\n",
    "    \"ytick.major.size\":\"10\",\n",
    "    \"ytick.minor.size\":\"5\",\n",
    "    \"ytick.right\":\"True\",\n",
    "})"
   ]
  },
  {
   "cell_type": "markdown",
   "id": "fb7f7328",
   "metadata": {},
   "source": [
    "## Dataset"
   ]
  },
  {
   "cell_type": "markdown",
   "id": "96a28fb4",
   "metadata": {},
   "source": [
    "This is the dataset we receive: lists of bin centres and bin contents."
   ]
  },
  {
   "cell_type": "code",
   "execution_count": null,
   "id": "beea41de",
   "metadata": {},
   "outputs": [],
   "source": [
    "interval = (-5, 2)"
   ]
  },
  {
   "cell_type": "code",
   "execution_count": null,
   "id": "218bfe72",
   "metadata": {},
   "outputs": [],
   "source": [
    "x = np.array([-4.5, -3.5, -2.5, -1.5, -0.5,  0.5, 1.5])"
   ]
  },
  {
   "cell_type": "code",
   "execution_count": null,
   "id": "ee1fd850",
   "metadata": {},
   "outputs": [],
   "source": [
    "y = np.array([0.3, 1.0, 0.9, 3.1, 6.9, 6.5, 1.7])"
   ]
  },
  {
   "cell_type": "code",
   "execution_count": null,
   "id": "4770c374",
   "metadata": {},
   "outputs": [],
   "source": [
    "yerrs = np.array([0.2, 0.3, 0.4, 0.4, 0.5, 0.3, 0.2])"
   ]
  },
  {
   "cell_type": "markdown",
   "id": "4f9d6336",
   "metadata": {},
   "source": [
    "## Implementation of Crystal Ball and Gauss"
   ]
  },
  {
   "cell_type": "code",
   "execution_count": null,
   "id": "18d509c4",
   "metadata": {},
   "outputs": [],
   "source": [
    "def CrystalBall(x, beta, m, mu, sigma, norm):\n",
    "    \"\"\"Takes x values and evaluates Crystal Ball at that point.\"\"\"\n",
    "    return norm * stats.crystalball.pdf(x, beta=beta, m=m, loc=mu, scale=sigma)"
   ]
  },
  {
   "cell_type": "code",
   "execution_count": null,
   "id": "acd63053",
   "metadata": {},
   "outputs": [],
   "source": [
    "def Gaussian(x, mu, sigma, norm):\n",
    "    \"\"\"Takes x values and evaluates Gaussian at that point.\"\"\"\n",
    "    return norm * stats.norm.pdf(x, loc=mu, scale=sigma)"
   ]
  },
  {
   "cell_type": "markdown",
   "id": "74c85f83",
   "metadata": {},
   "source": [
    "## Plotting the functions"
   ]
  },
  {
   "cell_type": "code",
   "execution_count": null,
   "id": "b7db0598",
   "metadata": {},
   "outputs": [],
   "source": [
    "xfunc = np.linspace(*interval, 200)"
   ]
  },
  {
   "cell_type": "code",
   "execution_count": null,
   "id": "50d035be",
   "metadata": {},
   "outputs": [],
   "source": [
    "beta=1\n",
    "m=3"
   ]
  },
  {
   "cell_type": "code",
   "execution_count": null,
   "id": "f4c02155",
   "metadata": {},
   "outputs": [],
   "source": [
    "yfunc_cb = CrystalBall(xfunc, beta=beta, m=m, mu=0, sigma=1, norm=1)"
   ]
  },
  {
   "cell_type": "code",
   "execution_count": null,
   "id": "a810537f",
   "metadata": {},
   "outputs": [],
   "source": [
    "yfunc_gauss = Gaussian(xfunc, mu=0, sigma=1, norm=1)"
   ]
  },
  {
   "cell_type": "code",
   "execution_count": null,
   "id": "871dfb23",
   "metadata": {},
   "outputs": [],
   "source": [
    "plt.plot(xfunc, yfunc_cb * 20, label=rf\"Crystal-Ball ($\\beta$={beta}, m={m})\")\n",
    "plt.plot(xfunc, yfunc_gauss * 17, label=\"Gauss\")\n",
    "plt.errorbar(x, y, yerr=yerrs, label=\"data points\", fmt=\"o\")\n",
    "plt.ylim([0, 10])\n",
    "plt.legend()\n",
    "\n",
    "plt.show()"
   ]
  },
  {
   "cell_type": "markdown",
   "id": "d8d523bf",
   "metadata": {},
   "source": [
    "## Defining a chi2 function"
   ]
  },
  {
   "cell_type": "code",
   "execution_count": null,
   "id": "a821e3eb",
   "metadata": {},
   "outputs": [],
   "source": [
    "def calc_chi2(x, y, yerrs, func, params):\n",
    "    \"\"\"Calculates chi2 of x, y dataset w.r.t. to given function.\"\"\"\n",
    "    chi2 = 0\n",
    "    for i in range(len(x)):\n",
    "        fct_value = func(x[i], *params)\n",
    "        chi2 += np.power((y[i] - fct_value) / yerrs[i], 2)\n",
    "    return chi2"
   ]
  },
  {
   "cell_type": "markdown",
   "id": "3c3e01c0",
   "metadata": {},
   "source": [
    "## Fitting a Gaussian function"
   ]
  },
  {
   "cell_type": "code",
   "execution_count": null,
   "id": "d2c682d0",
   "metadata": {},
   "outputs": [],
   "source": [
    "params, cov = opt.curve_fit(Gaussian, x, y, sigma=yerrs, p0=[0, 1, 16])"
   ]
  },
  {
   "cell_type": "code",
   "execution_count": null,
   "id": "de5e7ab6",
   "metadata": {},
   "outputs": [],
   "source": [
    "params"
   ]
  },
  {
   "cell_type": "code",
   "execution_count": null,
   "id": "3f070239",
   "metadata": {},
   "outputs": [],
   "source": [
    "plt.plot(xfunc, Gaussian(xfunc, *params), color=\"orange\", label=rf\"Gaussian($\\mu$={params[0]:.2f}, $\\sigma$={params[1]:.2f})\")\n",
    "plt.errorbar(x, y, yerr=yerrs, label=\"data points\", fmt=\"o\")\n",
    "plt.legend()\n",
    "\n",
    "plt.show()"
   ]
  },
  {
   "cell_type": "code",
   "execution_count": null,
   "id": "a95fe2a5",
   "metadata": {},
   "outputs": [],
   "source": [
    "chi2_gauss = calc_chi2(x, y, yerrs, Gaussian, params)"
   ]
  },
  {
   "cell_type": "code",
   "execution_count": null,
   "id": "29f0f2fc",
   "metadata": {},
   "outputs": [],
   "source": [
    "chi2_gauss"
   ]
  },
  {
   "cell_type": "markdown",
   "id": "8741dd68",
   "metadata": {},
   "source": [
    "## Fitting a Crystal Ball function"
   ]
  },
  {
   "cell_type": "code",
   "execution_count": null,
   "id": "1d20b757",
   "metadata": {},
   "outputs": [],
   "source": [
    "params, cov = opt.curve_fit(CrystalBall, x, y, sigma=yerrs, p0=[1, 3, 0, 1, 15])"
   ]
  },
  {
   "cell_type": "code",
   "execution_count": null,
   "id": "613d40e1",
   "metadata": {},
   "outputs": [],
   "source": [
    "params"
   ]
  },
  {
   "cell_type": "code",
   "execution_count": null,
   "id": "300bbd7b",
   "metadata": {},
   "outputs": [],
   "source": [
    "plt.plot(xfunc, CrystalBall(xfunc, *params), color=\"orange\", label=rf\"Crystal Ball($\\beta$={params[0]:.2f}, m={params[1]:.2f}, $\\mu$={params[2]:.2f}, $\\sigma$={params[3]:.2f})\")\n",
    "plt.errorbar(x, y, yerr=yerrs, label=\"data points\", fmt=\"o\")\n",
    "plt.legend()\n",
    "\n",
    "plt.show()"
   ]
  },
  {
   "cell_type": "code",
   "execution_count": null,
   "id": "0d6f5704",
   "metadata": {},
   "outputs": [],
   "source": [
    "chi2_cb = calc_chi2(x, y, yerrs, CrystalBall, params)"
   ]
  },
  {
   "cell_type": "code",
   "execution_count": null,
   "id": "d5e61160",
   "metadata": {},
   "outputs": [],
   "source": [
    "chi2_cb"
   ]
  },
  {
   "cell_type": "markdown",
   "id": "11ecf60f",
   "metadata": {},
   "source": [
    "## Comparison with chi2 distribution"
   ]
  },
  {
   "cell_type": "code",
   "execution_count": null,
   "id": "2e60d8f2",
   "metadata": {},
   "outputs": [],
   "source": [
    "print(f\"Gauss: chi2 = {chi2_gauss:.2f}, quantile = {stats.chi2.cdf(chi2_gauss, 7 - 3):.3f}\")"
   ]
  },
  {
   "cell_type": "code",
   "execution_count": null,
   "id": "3656be44",
   "metadata": {},
   "outputs": [],
   "source": [
    "print(f\"Crystal Ball: chi2 = {chi2_cb:.2f}, quantile = {stats.chi2.cdf(chi2_cb, 7 - 5):.3f}\")"
   ]
  },
  {
   "cell_type": "code",
   "execution_count": null,
   "id": "839c94f3",
   "metadata": {},
   "outputs": [],
   "source": []
  }
 ],
 "metadata": {
  "kernelspec": {
   "display_name": "Python 3 (ipykernel)",
   "language": "python",
   "name": "python3"
  },
  "language_info": {
   "codemirror_mode": {
    "name": "ipython",
    "version": 3
   },
   "file_extension": ".py",
   "mimetype": "text/x-python",
   "name": "python",
   "nbconvert_exporter": "python",
   "pygments_lexer": "ipython3",
   "version": "3.8.11"
  }
 },
 "nbformat": 4,
 "nbformat_minor": 5
}
